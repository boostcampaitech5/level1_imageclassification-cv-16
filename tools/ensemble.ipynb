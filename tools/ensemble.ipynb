{
 "cells": [
  {
   "cell_type": "code",
   "execution_count": 1,
   "metadata": {},
   "outputs": [],
   "source": [
    "import pandas as pd"
   ]
  },
  {
   "cell_type": "code",
   "execution_count": 202,
   "metadata": {},
   "outputs": [],
   "source": [
    "\"\"\"\n",
    "Yuseok preprocess\n",
    "\"\"\"\n",
    "yuseok_df1 = pd.read_csv(\"testing_model/yuseok/Project7_Age.csv\")\n",
    "yuseok_df2 = pd.read_csv(\"testing_model/yuseok/Project7_Gender.csv\")\n",
    "yuseok_df3 = pd.read_csv(\"testing_model/yuseok/Project7_Mask.csv\")\n",
    "\n",
    "yuseok_df1 = yuseok_df1.rename(columns={\"<30\":\"age_0\", \"<60\":\"age_1\", \">=60\":\"age_2\"})\n",
    "yuseok_df2 = yuseok_df2.rename(columns={\"male\":\"gender_0\", \"female\":\"gender_1\"})\n",
    "yuseok_df3 = yuseok_df3.rename(columns={\"mask\":\"mask_0\", \"incorrect\":\"mask_1\", \"normal\":\"mask_2\"})\n",
    "\n",
    "yuseok_df = pd.merge(yuseok_df3, yuseok_df2, on='ImageID')\n",
    "yuseok_df = pd.merge(yuseok_df, yuseok_df1, on=\"ImageID\")\n",
    "mask_argmax = yuseok_df[[\"mask_0\", \"mask_1\", \"mask_2\"]].idxmax(axis=1)\n",
    "mask_argmax, _ = pd.factorize(mask_argmax, sort=True)\n",
    "\n",
    "gender_argmax = yuseok_df[[\"gender_0\", \"gender_1\"]].idxmax(axis=1)\n",
    "gender_argmax, _ = pd.factorize(gender_argmax, sort=True)\n",
    "\n",
    "age_argmax = yuseok_df[[\"age_0\", \"age_1\", \"age_2\"]].idxmax(axis=1)\n",
    "age_argmax, _ = pd.factorize(age_argmax, sort=True)\n",
    "\n",
    "yuseok_df[\"mask\"] = mask_argmax\n",
    "yuseok_df[\"gender\"] = gender_argmax\n",
    "yuseok_df[\"age\"] = age_argmax\n",
    "yuseok_df[\"ans\"] = yuseok_df[\"mask\"]*6 + yuseok_df[\"gender\"]*3 + yuseok_df[\"age\"]"
   ]
  },
  {
   "cell_type": "code",
   "execution_count": 203,
   "metadata": {},
   "outputs": [],
   "source": [
    "\"\"\"\n",
    "Common preprocess\n",
    "\"\"\"\n",
    "yang_df = pd.read_csv(\"testing_model/resnet34_kyeonghoon.csv\")\n",
    "yang_df = yang_df.drop(\"Unnamed: 0\", axis=1)\n",
    "yang_df = yang_df.rename(columns={\"Under 30\":\"age_0\", \"30 to 60\":\"age_1\", \"Over 60\":\"age_2\"})\n",
    "age_argmax = yang_df[[\"age_0\", \"age_1\", \"age_2\"]].idxmax(axis=1)\n",
    "age_argmax, _ = pd.factorize(age_argmax, sort=True)\n",
    "yang_df[\"age\"] = age_argmax\n",
    "\n",
    "dohwan_df = pd.read_csv(\"testing_model/age_Ensemble_vit_early_loss_dohwan.csv\")\n",
    "dohwan_df = dohwan_df.drop(\"Unnamed: 0\", axis=1)\n",
    "dohwan_df = dohwan_df.rename(columns={\"Under 30\":\"age_0\", \"30 to 60\":\"age_1\", \"Over 60\":\"age_2\"})\n",
    "age_argmax = dohwan_df[[\"age_0\", \"age_1\", \"age_2\"]].idxmax(axis=1)\n",
    "age_argmax, _ = pd.factorize(age_argmax, sort=True)\n",
    "dohwan_df[\"age\"] = age_argmax\n",
    "\n",
    "geunuk_df1 = pd.read_csv(\"testing_model/ensemble_convnext_base_geunuk.csv\")\n",
    "geunuk_df1 = geunuk_df1.drop(\"Unnamed: 0\", axis=1)\n",
    "geunuk_df1 = geunuk_df1.rename(columns={\"Under 30\":\"age_0\", \"30 to 60\":\"age_1\", \"Over 60\":\"age_2\"})\n",
    "age_argmax = geunuk_df1[[\"age_0\", \"age_1\", \"age_2\"]].idxmax(axis=1)\n",
    "age_argmax, _ = pd.factorize(age_argmax, sort=True)\n",
    "geunuk_df1[\"age\"] = age_argmax\n",
    "\n",
    "geunuk_df2 = pd.read_csv(\"testing_model/ensemble_resnet34_geunuk.csv\")\n",
    "geunuk_df2 = geunuk_df2.drop(\"Unnamed: 0\", axis=1)\n",
    "geunuk_df2 = geunuk_df2.rename(columns={\"Under 30\":\"age_0\", \"30 to 60\":\"age_1\", \"Over 60\":\"age_2\"})\n",
    "age_argmax = geunuk_df2[[\"age_0\", \"age_1\", \"age_2\"]].idxmax(axis=1)\n",
    "age_argmax, _ = pd.factorize(age_argmax, sort=True)\n",
    "geunuk_df2[\"age\"] = age_argmax\n",
    "\n",
    "geunuk_df3 = pd.read_csv(\"testing_model/ensemble_swin_small_patch4_window7_224_geunuk.csv\")\n",
    "geunuk_df3 = geunuk_df3.drop(\"Unnamed: 0\", axis=1)\n",
    "geunuk_df3 = geunuk_df3.rename(columns={\"Under 30\":\"age_0\", \"30 to 60\":\"age_1\", \"Over 60\":\"age_2\"})\n",
    "age_argmax = geunuk_df3[[\"age_0\", \"age_1\", \"age_2\"]].idxmax(axis=1)\n",
    "age_argmax, _ = pd.factorize(age_argmax, sort=True)\n",
    "geunuk_df3[\"age\"] = age_argmax\n",
    "\n",
    "geunuk_df4 = pd.read_csv(\"testing_model/ensemble_vit_base_patch8_224_geunuk.csv\")\n",
    "geunuk_df4 = geunuk_df4.drop(\"Unnamed: 0\", axis=1)\n",
    "geunuk_df4 = geunuk_df4.rename(columns={\"Under 30\":\"age_0\", \"30 to 60\":\"age_1\", \"Over 60\":\"age_2\"})\n",
    "age_argmax = geunuk_df4[[\"age_0\", \"age_1\", \"age_2\"]].idxmax(axis=1)\n",
    "age_argmax, _ = pd.factorize(age_argmax, sort=True)\n",
    "geunuk_df4[\"age\"] = age_argmax\n",
    "\n",
    "dohwan_df2 = pd.read_csv(\"testing_model/Ensemble_age_vit_early_f1_dohwan.csv\")\n",
    "dohwan_df2 = dohwan_df2.drop(\"Unnamed: 0\", axis=1)\n",
    "dohwan_df2 = dohwan_df2.rename(columns={\"Under 30\":\"age_0\", \"30 to 60\":\"age_1\", \"Over 60\":\"age_2\"})\n",
    "age_argmax = dohwan_df2[[\"age_0\", \"age_1\", \"age_2\"]].idxmax(axis=1)\n",
    "age_argmax, _ = pd.factorize(age_argmax, sort=True)\n",
    "dohwan_df2[\"age\"] = age_argmax\n",
    "\n",
    "dohwan_df3 = pd.read_csv(\"testing_model/age_Ensemble_60_3_dohwan.csv\")\n",
    "dohwan_df3 = dohwan_df3.drop(\"Unnamed: 0\", axis=1)\n",
    "dohwan_df3 = dohwan_df3.rename(columns={\"Under 30\":\"age_0\", \"30 to 60\":\"age_1\", \"Over 60\":\"age_2\"})\n",
    "age_argmax = dohwan_df3[[\"age_0\", \"age_1\", \"age_2\"]].idxmax(axis=1)\n",
    "age_argmax, _ = pd.factorize(age_argmax, sort=True)\n",
    "dohwan_df3[\"age\"] = age_argmax"
   ]
  },
  {
   "cell_type": "code",
   "execution_count": 207,
   "metadata": {},
   "outputs": [],
   "source": [
    "\"\"\"\n",
    "Jongmok preprocess\n",
    "\"\"\"\n",
    "df = pd.read_csv(\"submits/resnet34_CrossEntropy_Project47.csv\")\n",
    "\n",
    "mask_argmax = df[[\"mask_0\", \"mask_1\", \"mask_2\"]].idxmax(axis=1)\n",
    "mask_argmax, _ = pd.factorize(mask_argmax, sort=True)\n",
    "\n",
    "gender_argmax = df[[\"gender_0\", \"gender_1\"]].idxmax(axis=1)\n",
    "gender_argmax, _ = pd.factorize(gender_argmax, sort=True)\n",
    "\n",
    "age_argmax = df[[\"age_0\", \"age_1\", \"age_2\"]].idxmax(axis=1)\n",
    "age_argmax, _ = pd.factorize(age_argmax, sort=True)\n",
    "\n",
    "df[\"mask\"] = mask_argmax\n",
    "df[\"gender\"] = gender_argmax\n",
    "df[\"age\"] = age_argmax\n",
    "df[\"ans\"] = df[\"mask\"]*6 + df[\"gender\"]*3 + df[\"age\"]"
   ]
  },
  {
   "cell_type": "code",
   "execution_count": 208,
   "metadata": {},
   "outputs": [
    {
     "name": "stdout",
     "output_type": "stream",
     "text": [
      "Mask 일치율 :  0.9957142857142857\n",
      "Gender 일치율 :  0.983015873015873\n",
      "Age 일치율 :  0.8866666666666667\n"
     ]
    }
   ],
   "source": [
    "print(\"Mask 일치율 : \", (yuseok_df[\"mask\"] == df[\"mask\"]).sum() / 12600)\n",
    "print(\"Gender 일치율 : \", (yuseok_df[\"gender\"] == df[\"gender\"]).sum() / 12600)\n",
    "print(\"Age 일치율 : \", (yuseok_df[\"age\"] == df[\"age\"]).sum() / 12600)"
   ]
  },
  {
   "cell_type": "code",
   "execution_count": 209,
   "metadata": {},
   "outputs": [
    {
     "name": "stdout",
     "output_type": "stream",
     "text": [
      "Age 일치율 :  0.49317460317460315\n",
      "Age 일치율 :  0.8511904761904762\n",
      "Age 일치율 :  0.8866666666666667\n",
      "Age 일치율 :  0.8392063492063492\n",
      "Age 일치율 :  0.8165079365079365\n",
      "Age 일치율 :  0.8184920634920635\n",
      "Age 일치율 :  0.8648412698412699\n"
     ]
    }
   ],
   "source": [
    "print(\"Age 일치율 : \", (df[\"age\"] == yang_df[\"age\"]).sum() / 12600)\n",
    "print(\"Age 일치율 : \", (df[\"age\"] == dohwan_df[\"age\"]).sum() / 12600)\n",
    "print(\"Age 일치율 : \", (df[\"age\"] == yuseok_df[\"age\"]).sum() / 12600)\n",
    "print(\"Age 일치율 : \", (df[\"age\"] == geunuk_df1[\"age\"]).sum() / 12600)\n",
    "print(\"Age 일치율 : \", (df[\"age\"] == geunuk_df2[\"age\"]).sum() / 12600)\n",
    "print(\"Age 일치율 : \", (df[\"age\"] == geunuk_df3[\"age\"]).sum() / 12600)\n",
    "print(\"Age 일치율 : \", (df[\"age\"] == geunuk_df4[\"age\"]).sum() / 12600)"
   ]
  },
  {
   "cell_type": "code",
   "execution_count": 210,
   "metadata": {},
   "outputs": [
    {
     "name": "stdout",
     "output_type": "stream",
     "text": [
      "Age 일치율 :  0.5021428571428571\n",
      "Age 일치율 :  0.48373015873015873\n",
      "Age 일치율 :  0.4819047619047619\n",
      "Age 일치율 :  0.4976984126984127\n",
      "Age 일치율 :  0.47285714285714286\n",
      "Age 일치율 :  0.49396825396825395\n"
     ]
    }
   ],
   "source": [
    "print(\"Age 일치율 : \", (yang_df[\"age\"] == dohwan_df[\"age\"]).sum() / 12600)\n",
    "print(\"Age 일치율 : \", (yang_df[\"age\"] == yuseok_df[\"age\"]).sum() / 12600)\n",
    "print(\"Age 일치율 : \", (yang_df[\"age\"] == geunuk_df1[\"age\"]).sum() / 12600)\n",
    "print(\"Age 일치율 : \", (yang_df[\"age\"] == geunuk_df2[\"age\"]).sum() / 12600)\n",
    "print(\"Age 일치율 : \", (yang_df[\"age\"] == geunuk_df3[\"age\"]).sum() / 12600)\n",
    "print(\"Age 일치율 : \", (yang_df[\"age\"] == geunuk_df4[\"age\"]).sum() / 12600)"
   ]
  },
  {
   "cell_type": "code",
   "execution_count": 211,
   "metadata": {},
   "outputs": [
    {
     "name": "stdout",
     "output_type": "stream",
     "text": [
      "Age 일치율 :  0.8194444444444444\n",
      "Age 일치율 :  0.8215079365079365\n",
      "Age 일치율 :  0.7728571428571429\n",
      "Age 일치율 :  0.8038095238095239\n",
      "Age 일치율 :  0.8615079365079366\n"
     ]
    }
   ],
   "source": [
    "print(\"Age 일치율 : \", (dohwan_df[\"age\"] == yuseok_df[\"age\"]).sum() / 12600)\n",
    "print(\"Age 일치율 : \", (dohwan_df[\"age\"] == geunuk_df1[\"age\"]).sum() / 12600)\n",
    "print(\"Age 일치율 : \", (dohwan_df[\"age\"] == geunuk_df2[\"age\"]).sum() / 12600)\n",
    "print(\"Age 일치율 : \", (dohwan_df[\"age\"] == geunuk_df3[\"age\"]).sum() / 12600)\n",
    "print(\"Age 일치율 : \", (dohwan_df[\"age\"] == geunuk_df4[\"age\"]).sum() / 12600)"
   ]
  },
  {
   "cell_type": "code",
   "execution_count": 212,
   "metadata": {},
   "outputs": [
    {
     "name": "stdout",
     "output_type": "stream",
     "text": [
      "Age 일치율 :  0.8770634920634921\n",
      "Age 일치율 :  0.8493650793650793\n",
      "Age 일치율 :  0.8003174603174603\n",
      "Age 일치율 :  0.8242063492063492\n"
     ]
    }
   ],
   "source": [
    "print(\"Age 일치율 : \", (yuseok_df[\"age\"] == geunuk_df1[\"age\"]).sum() / 12600)\n",
    "print(\"Age 일치율 : \", (yuseok_df[\"age\"] == geunuk_df2[\"age\"]).sum() / 12600)\n",
    "print(\"Age 일치율 : \", (yuseok_df[\"age\"] == geunuk_df3[\"age\"]).sum() / 12600)\n",
    "print(\"Age 일치율 : \", (yuseok_df[\"age\"] == geunuk_df4[\"age\"]).sum() / 12600)"
   ]
  },
  {
   "cell_type": "code",
   "execution_count": 213,
   "metadata": {},
   "outputs": [
    {
     "name": "stdout",
     "output_type": "stream",
     "text": [
      "Age 일치율 :  0.8428571428571429\n",
      "Age 일치율 :  0.8202380952380952\n",
      "Age 일치율 :  0.8262698412698413\n"
     ]
    }
   ],
   "source": [
    "print(\"Age 일치율 : \", (geunuk_df1[\"age\"] == geunuk_df2[\"age\"]).sum() / 12600)\n",
    "print(\"Age 일치율 : \", (geunuk_df1[\"age\"] == geunuk_df3[\"age\"]).sum() / 12600)\n",
    "print(\"Age 일치율 : \", (geunuk_df1[\"age\"] == geunuk_df4[\"age\"]).sum() / 12600)"
   ]
  },
  {
   "cell_type": "code",
   "execution_count": 214,
   "metadata": {},
   "outputs": [
    {
     "name": "stdout",
     "output_type": "stream",
     "text": [
      "Age 일치율 :  0.7782539682539683\n",
      "Age 일치율 :  0.7915873015873016\n"
     ]
    }
   ],
   "source": [
    "print(\"Age 일치율 : \", (geunuk_df2[\"age\"] == geunuk_df3[\"age\"]).sum() / 12600)\n",
    "print(\"Age 일치율 : \", (geunuk_df2[\"age\"] == geunuk_df4[\"age\"]).sum() / 12600)"
   ]
  },
  {
   "cell_type": "code",
   "execution_count": 215,
   "metadata": {},
   "outputs": [
    {
     "name": "stdout",
     "output_type": "stream",
     "text": [
      "Age 일치율 :  0.837936507936508\n"
     ]
    }
   ],
   "source": [
    "print(\"Age 일치율 : \", (geunuk_df3[\"age\"] == geunuk_df4[\"age\"]).sum() / 12600)"
   ]
  },
  {
   "cell_type": "code",
   "execution_count": 216,
   "metadata": {},
   "outputs": [
    {
     "name": "stdout",
     "output_type": "stream",
     "text": [
      "Age 일치율 :  0.8473015873015873\n",
      "Age 일치율 :  0.98\n",
      "Age 일치율 :  0.8218253968253968\n",
      "Age 일치율 :  0.827936507936508\n",
      "Age 일치율 :  0.7762698412698412\n",
      "Age 일치율 :  0.8051587301587302\n",
      "Age 일치율 :  0.8570634920634921\n"
     ]
    }
   ],
   "source": [
    "print(\"Age 일치율 : \", (dohwan_df2[\"age\"] == df[\"age\"]).sum() / 12600)\n",
    "print(\"Age 일치율 : \", (dohwan_df2[\"age\"] == dohwan_df[\"age\"]).sum() / 12600)\n",
    "print(\"Age 일치율 : \", (dohwan_df2[\"age\"] == yuseok_df[\"age\"]).sum() / 12600)\n",
    "print(\"Age 일치율 : \", (dohwan_df2[\"age\"] == geunuk_df1[\"age\"]).sum() / 12600)\n",
    "print(\"Age 일치율 : \", (dohwan_df2[\"age\"] == geunuk_df2[\"age\"]).sum() / 12600)\n",
    "print(\"Age 일치율 : \", (dohwan_df2[\"age\"] == geunuk_df3[\"age\"]).sum() / 12600)\n",
    "print(\"Age 일치율 : \", (dohwan_df2[\"age\"] == geunuk_df4[\"age\"]).sum() / 12600)"
   ]
  },
  {
   "cell_type": "code",
   "execution_count": 217,
   "metadata": {},
   "outputs": [
    {
     "name": "stdout",
     "output_type": "stream",
     "text": [
      "Age 일치율 :  0.881984126984127\n",
      "Age 일치율 :  0.8383333333333334\n",
      "Age 일치율 :  0.8530952380952381\n",
      "Age 일치율 :  0.8200793650793651\n",
      "Age 일치율 :  0.819047619047619\n",
      "Age 일치율 :  0.7985714285714286\n",
      "Age 일치율 :  0.847936507936508\n"
     ]
    }
   ],
   "source": [
    "print(\"Age 일치율 : \", (dohwan_df3[\"age\"] == df[\"age\"]).sum() / 12600)\n",
    "print(\"Age 일치율 : \", (dohwan_df3[\"age\"] == dohwan_df[\"age\"]).sum() / 12600)\n",
    "print(\"Age 일치율 : \", (dohwan_df3[\"age\"] == yuseok_df[\"age\"]).sum() / 12600)\n",
    "print(\"Age 일치율 : \", (dohwan_df3[\"age\"] == geunuk_df1[\"age\"]).sum() / 12600)\n",
    "print(\"Age 일치율 : \", (dohwan_df3[\"age\"] == geunuk_df2[\"age\"]).sum() / 12600)\n",
    "print(\"Age 일치율 : \", (dohwan_df3[\"age\"] == geunuk_df3[\"age\"]).sum() / 12600)\n",
    "print(\"Age 일치율 : \", (dohwan_df3[\"age\"] == geunuk_df4[\"age\"]).sum() / 12600)"
   ]
  },
  {
   "cell_type": "code",
   "execution_count": 287,
   "metadata": {},
   "outputs": [
    {
     "name": "stdout",
     "output_type": "stream",
     "text": [
      "Age 일치율 :  0.8648412698412699\n",
      "Age 일치율 :  0.8615079365079366\n",
      "Age 일치율 :  0.8242063492063492\n",
      "Age 일치율 :  0.8262698412698413\n",
      "Age 일치율 :  0.7915873015873016\n",
      "Age 일치율 :  0.837936507936508\n",
      "Age 일치율 :  1.0\n"
     ]
    }
   ],
   "source": [
    "print(\"Age 일치율 : \", (geunuk_df5[\"age\"] == df[\"age\"]).sum() / 12600)\n",
    "print(\"Age 일치율 : \", (geunuk_df5[\"age\"] == dohwan_df[\"age\"]).sum() / 12600)\n",
    "print(\"Age 일치율 : \", (geunuk_df5[\"age\"] == yuseok_df[\"age\"]).sum() / 12600)\n",
    "print(\"Age 일치율 : \", (geunuk_df5[\"age\"] == geunuk_df1[\"age\"]).sum() / 12600)\n",
    "print(\"Age 일치율 : \", (geunuk_df5[\"age\"] == geunuk_df2[\"age\"]).sum() / 12600)\n",
    "print(\"Age 일치율 : \", (geunuk_df5[\"age\"] == geunuk_df3[\"age\"]).sum() / 12600)\n",
    "print(\"Age 일치율 : \", (geunuk_df5[\"age\"] == geunuk_df4[\"age\"]).sum() / 12600)"
   ]
  },
  {
   "cell_type": "code",
   "execution_count": 218,
   "metadata": {},
   "outputs": [
    {
     "name": "stdout",
     "output_type": "stream",
     "text": [
      "Age 일치율 :  0.8332539682539682\n"
     ]
    }
   ],
   "source": [
    "print(\"Age 일치율 : \", (dohwan_df2[\"age\"] == dohwan_df3[\"age\"]).sum() / 12600)"
   ]
  },
  {
   "cell_type": "code",
   "execution_count": 219,
   "metadata": {},
   "outputs": [],
   "source": [
    "# yuseok_df, dohwan_df, geunuk_df1, geunuk_df2, geunuk_df3, geunuk_df4, df"
   ]
  },
  {
   "cell_type": "code",
   "execution_count": 220,
   "metadata": {},
   "outputs": [
    {
     "data": {
      "text/html": [
       "<div>\n",
       "<style scoped>\n",
       "    .dataframe tbody tr th:only-of-type {\n",
       "        vertical-align: middle;\n",
       "    }\n",
       "\n",
       "    .dataframe tbody tr th {\n",
       "        vertical-align: top;\n",
       "    }\n",
       "\n",
       "    .dataframe thead th {\n",
       "        text-align: right;\n",
       "    }\n",
       "</style>\n",
       "<table border=\"1\" class=\"dataframe\">\n",
       "  <thead>\n",
       "    <tr style=\"text-align: right;\">\n",
       "      <th></th>\n",
       "      <th>ImageID</th>\n",
       "      <th>mask_0</th>\n",
       "      <th>mask_1</th>\n",
       "      <th>mask_2</th>\n",
       "      <th>gender_0</th>\n",
       "      <th>gender_1</th>\n",
       "      <th>age_0</th>\n",
       "      <th>age_1</th>\n",
       "      <th>age_2</th>\n",
       "      <th>mask</th>\n",
       "      <th>gender</th>\n",
       "      <th>age</th>\n",
       "      <th>ans</th>\n",
       "    </tr>\n",
       "  </thead>\n",
       "  <tbody>\n",
       "    <tr>\n",
       "      <th>0</th>\n",
       "      <td>cbc5c6e168e63498590db46022617123f1fe1268.jpg</td>\n",
       "      <td>0.000086</td>\n",
       "      <td>0.000109</td>\n",
       "      <td>0.999804</td>\n",
       "      <td>0.998760</td>\n",
       "      <td>0.001240</td>\n",
       "      <td>0.012262</td>\n",
       "      <td>0.728661</td>\n",
       "      <td>0.259076</td>\n",
       "      <td>2</td>\n",
       "      <td>0</td>\n",
       "      <td>1</td>\n",
       "      <td>13</td>\n",
       "    </tr>\n",
       "    <tr>\n",
       "      <th>1</th>\n",
       "      <td>0e72482bf56b3581c081f7da2a6180b8792c7089.jpg</td>\n",
       "      <td>0.988631</td>\n",
       "      <td>0.008803</td>\n",
       "      <td>0.002565</td>\n",
       "      <td>0.963168</td>\n",
       "      <td>0.036832</td>\n",
       "      <td>0.014309</td>\n",
       "      <td>0.453814</td>\n",
       "      <td>0.531877</td>\n",
       "      <td>0</td>\n",
       "      <td>0</td>\n",
       "      <td>2</td>\n",
       "      <td>2</td>\n",
       "    </tr>\n",
       "    <tr>\n",
       "      <th>2</th>\n",
       "      <td>b549040c49190cedc41327748aeb197c1670f14d.jpg</td>\n",
       "      <td>0.013895</td>\n",
       "      <td>0.029172</td>\n",
       "      <td>0.956932</td>\n",
       "      <td>0.993237</td>\n",
       "      <td>0.006763</td>\n",
       "      <td>0.014983</td>\n",
       "      <td>0.852906</td>\n",
       "      <td>0.132112</td>\n",
       "      <td>2</td>\n",
       "      <td>0</td>\n",
       "      <td>1</td>\n",
       "      <td>13</td>\n",
       "    </tr>\n",
       "  </tbody>\n",
       "</table>\n",
       "</div>"
      ],
      "text/plain": [
       "                                        ImageID    mask_0    mask_1    mask_2  \\\n",
       "0  cbc5c6e168e63498590db46022617123f1fe1268.jpg  0.000086  0.000109  0.999804   \n",
       "1  0e72482bf56b3581c081f7da2a6180b8792c7089.jpg  0.988631  0.008803  0.002565   \n",
       "2  b549040c49190cedc41327748aeb197c1670f14d.jpg  0.013895  0.029172  0.956932   \n",
       "\n",
       "   gender_0  gender_1     age_0     age_1     age_2  mask  gender  age  ans  \n",
       "0  0.998760  0.001240  0.012262  0.728661  0.259076     2       0    1   13  \n",
       "1  0.963168  0.036832  0.014309  0.453814  0.531877     0       0    2    2  \n",
       "2  0.993237  0.006763  0.014983  0.852906  0.132112     2       0    1   13  "
      ]
     },
     "execution_count": 220,
     "metadata": {},
     "output_type": "execute_result"
    }
   ],
   "source": [
    "yuseok_df.head(3)"
   ]
  },
  {
   "cell_type": "code",
   "execution_count": 221,
   "metadata": {},
   "outputs": [
    {
     "data": {
      "text/html": [
       "<div>\n",
       "<style scoped>\n",
       "    .dataframe tbody tr th:only-of-type {\n",
       "        vertical-align: middle;\n",
       "    }\n",
       "\n",
       "    .dataframe tbody tr th {\n",
       "        vertical-align: top;\n",
       "    }\n",
       "\n",
       "    .dataframe thead th {\n",
       "        text-align: right;\n",
       "    }\n",
       "</style>\n",
       "<table border=\"1\" class=\"dataframe\">\n",
       "  <thead>\n",
       "    <tr style=\"text-align: right;\">\n",
       "      <th></th>\n",
       "      <th>ImageID</th>\n",
       "      <th>ans</th>\n",
       "      <th>mask_0</th>\n",
       "      <th>mask_1</th>\n",
       "      <th>mask_2</th>\n",
       "      <th>gender_0</th>\n",
       "      <th>gender_1</th>\n",
       "      <th>age_0</th>\n",
       "      <th>age_1</th>\n",
       "      <th>age_2</th>\n",
       "      <th>mask</th>\n",
       "      <th>gender</th>\n",
       "      <th>age</th>\n",
       "    </tr>\n",
       "  </thead>\n",
       "  <tbody>\n",
       "    <tr>\n",
       "      <th>0</th>\n",
       "      <td>cbc5c6e168e63498590db46022617123f1fe1268.jpg</td>\n",
       "      <td>13</td>\n",
       "      <td>0.000005</td>\n",
       "      <td>0.000018</td>\n",
       "      <td>0.999977</td>\n",
       "      <td>0.999285</td>\n",
       "      <td>0.000715</td>\n",
       "      <td>0.001218</td>\n",
       "      <td>0.913335</td>\n",
       "      <td>0.085447</td>\n",
       "      <td>2</td>\n",
       "      <td>0</td>\n",
       "      <td>1</td>\n",
       "    </tr>\n",
       "    <tr>\n",
       "      <th>1</th>\n",
       "      <td>0e72482bf56b3581c081f7da2a6180b8792c7089.jpg</td>\n",
       "      <td>1</td>\n",
       "      <td>0.993460</td>\n",
       "      <td>0.006322</td>\n",
       "      <td>0.000218</td>\n",
       "      <td>0.967962</td>\n",
       "      <td>0.032038</td>\n",
       "      <td>0.002301</td>\n",
       "      <td>0.956383</td>\n",
       "      <td>0.041316</td>\n",
       "      <td>0</td>\n",
       "      <td>0</td>\n",
       "      <td>1</td>\n",
       "    </tr>\n",
       "    <tr>\n",
       "      <th>2</th>\n",
       "      <td>b549040c49190cedc41327748aeb197c1670f14d.jpg</td>\n",
       "      <td>13</td>\n",
       "      <td>0.014875</td>\n",
       "      <td>0.008732</td>\n",
       "      <td>0.976393</td>\n",
       "      <td>0.995018</td>\n",
       "      <td>0.004982</td>\n",
       "      <td>0.001980</td>\n",
       "      <td>0.942880</td>\n",
       "      <td>0.055140</td>\n",
       "      <td>2</td>\n",
       "      <td>0</td>\n",
       "      <td>1</td>\n",
       "    </tr>\n",
       "  </tbody>\n",
       "</table>\n",
       "</div>"
      ],
      "text/plain": [
       "                                        ImageID  ans    mask_0    mask_1  \\\n",
       "0  cbc5c6e168e63498590db46022617123f1fe1268.jpg   13  0.000005  0.000018   \n",
       "1  0e72482bf56b3581c081f7da2a6180b8792c7089.jpg    1  0.993460  0.006322   \n",
       "2  b549040c49190cedc41327748aeb197c1670f14d.jpg   13  0.014875  0.008732   \n",
       "\n",
       "     mask_2  gender_0  gender_1     age_0     age_1     age_2  mask  gender  \\\n",
       "0  0.999977  0.999285  0.000715  0.001218  0.913335  0.085447     2       0   \n",
       "1  0.000218  0.967962  0.032038  0.002301  0.956383  0.041316     0       0   \n",
       "2  0.976393  0.995018  0.004982  0.001980  0.942880  0.055140     2       0   \n",
       "\n",
       "   age  \n",
       "0    1  \n",
       "1    1  \n",
       "2    1  "
      ]
     },
     "execution_count": 221,
     "metadata": {},
     "output_type": "execute_result"
    }
   ],
   "source": [
    "df.head(3)"
   ]
  },
  {
   "cell_type": "code",
   "execution_count": 272,
   "metadata": {},
   "outputs": [],
   "source": [
    "all_df = pd.DataFrame()"
   ]
  },
  {
   "cell_type": "code",
   "execution_count": 273,
   "metadata": {},
   "outputs": [],
   "source": [
    "all_df[\"ImageID\"] = df[\"ImageID\"]"
   ]
  },
  {
   "cell_type": "code",
   "execution_count": 274,
   "metadata": {},
   "outputs": [],
   "source": [
    "all_df[[\"mask_0\", \"mask_1\", \"mask_2\"]] = df[[\"mask_0\", \"mask_1\", \"mask_2\"]] + yuseok_df[[\"mask_0\", \"mask_1\", \"mask_2\"]]\n",
    "all_df[[\"gender_0\", \"gender_1\"]] = df[[\"gender_0\", \"gender_1\"]] + yuseok_df[[\"gender_0\", \"gender_1\"]]\n",
    "all_df[[\"age_0\", \"age_1\", \"age_2\"]] = df[[\"age_0\", \"age_1\", \"age_2\"]] + yuseok_df[[\"age_0\", \"age_1\", \"age_2\"]]"
   ]
  },
  {
   "cell_type": "code",
   "execution_count": 275,
   "metadata": {},
   "outputs": [],
   "source": [
    "for df_tosum in [geunuk_df1, geunuk_df2, geunuk_df3, geunuk_df4, geunuk_df5]:\n",
    "    all_df[[\"age_0\", \"age_1\", \"age_2\"]] = all_df[[\"age_0\", \"age_1\", \"age_2\"]] + df_tosum[[\"age_0\", \"age_1\", \"age_2\"]]"
   ]
  },
  {
   "cell_type": "code",
   "execution_count": 276,
   "metadata": {},
   "outputs": [],
   "source": [
    "mask_argmax = all_df[[\"mask_0\", \"mask_1\", \"mask_2\"]].idxmax(axis=1)\n",
    "mask_argmax, _ = pd.factorize(mask_argmax, sort=True)\n",
    "\n",
    "gender_argmax = all_df[[\"gender_0\", \"gender_1\"]].idxmax(axis=1)\n",
    "gender_argmax, _ = pd.factorize(gender_argmax, sort=True)\n",
    "\n",
    "age_argmax = all_df[[\"age_0\", \"age_1\", \"age_2\"]].idxmax(axis=1)\n",
    "age_argmax, _ = pd.factorize(age_argmax, sort=True)\n",
    "\n",
    "all_df[\"mask\"] = mask_argmax\n",
    "all_df[\"gender\"] = gender_argmax\n",
    "all_df[\"age\"] = age_argmax\n",
    "all_df[\"ans\"] = all_df[\"mask\"]*6 + all_df[\"gender\"]*3 + all_df[\"age\"]"
   ]
  },
  {
   "cell_type": "code",
   "execution_count": 277,
   "metadata": {},
   "outputs": [
    {
     "data": {
      "text/html": [
       "<div>\n",
       "<style scoped>\n",
       "    .dataframe tbody tr th:only-of-type {\n",
       "        vertical-align: middle;\n",
       "    }\n",
       "\n",
       "    .dataframe tbody tr th {\n",
       "        vertical-align: top;\n",
       "    }\n",
       "\n",
       "    .dataframe thead th {\n",
       "        text-align: right;\n",
       "    }\n",
       "</style>\n",
       "<table border=\"1\" class=\"dataframe\">\n",
       "  <thead>\n",
       "    <tr style=\"text-align: right;\">\n",
       "      <th></th>\n",
       "      <th>ImageID</th>\n",
       "      <th>mask_0</th>\n",
       "      <th>mask_1</th>\n",
       "      <th>mask_2</th>\n",
       "      <th>gender_0</th>\n",
       "      <th>gender_1</th>\n",
       "      <th>age_0</th>\n",
       "      <th>age_1</th>\n",
       "      <th>age_2</th>\n",
       "      <th>mask</th>\n",
       "      <th>gender</th>\n",
       "      <th>age</th>\n",
       "      <th>ans</th>\n",
       "    </tr>\n",
       "  </thead>\n",
       "  <tbody>\n",
       "    <tr>\n",
       "      <th>0</th>\n",
       "      <td>cbc5c6e168e63498590db46022617123f1fe1268.jpg</td>\n",
       "      <td>0.000091</td>\n",
       "      <td>0.000127</td>\n",
       "      <td>1.999782</td>\n",
       "      <td>1.998044</td>\n",
       "      <td>0.001956</td>\n",
       "      <td>0.250848</td>\n",
       "      <td>5.446253</td>\n",
       "      <td>1.302899</td>\n",
       "      <td>2</td>\n",
       "      <td>0</td>\n",
       "      <td>1</td>\n",
       "      <td>13</td>\n",
       "    </tr>\n",
       "    <tr>\n",
       "      <th>1</th>\n",
       "      <td>0e72482bf56b3581c081f7da2a6180b8792c7089.jpg</td>\n",
       "      <td>1.982091</td>\n",
       "      <td>0.015125</td>\n",
       "      <td>0.002784</td>\n",
       "      <td>1.931131</td>\n",
       "      <td>0.068869</td>\n",
       "      <td>0.258239</td>\n",
       "      <td>3.414293</td>\n",
       "      <td>3.327468</td>\n",
       "      <td>0</td>\n",
       "      <td>0</td>\n",
       "      <td>1</td>\n",
       "      <td>1</td>\n",
       "    </tr>\n",
       "    <tr>\n",
       "      <th>2</th>\n",
       "      <td>b549040c49190cedc41327748aeb197c1670f14d.jpg</td>\n",
       "      <td>0.028770</td>\n",
       "      <td>0.037904</td>\n",
       "      <td>1.933326</td>\n",
       "      <td>1.988255</td>\n",
       "      <td>0.011745</td>\n",
       "      <td>0.247382</td>\n",
       "      <td>4.898797</td>\n",
       "      <td>1.853821</td>\n",
       "      <td>2</td>\n",
       "      <td>0</td>\n",
       "      <td>1</td>\n",
       "      <td>13</td>\n",
       "    </tr>\n",
       "    <tr>\n",
       "      <th>3</th>\n",
       "      <td>4f9cb2a045c6d5b9e50ad3459ea7b791eb6e18bc.jpg</td>\n",
       "      <td>0.000018</td>\n",
       "      <td>0.000213</td>\n",
       "      <td>1.999769</td>\n",
       "      <td>1.995225</td>\n",
       "      <td>0.004775</td>\n",
       "      <td>0.348515</td>\n",
       "      <td>4.155760</td>\n",
       "      <td>2.495725</td>\n",
       "      <td>2</td>\n",
       "      <td>0</td>\n",
       "      <td>1</td>\n",
       "      <td>13</td>\n",
       "    </tr>\n",
       "    <tr>\n",
       "      <th>4</th>\n",
       "      <td>248428d9a4a5b6229a7081c32851b90cb8d38d0c.jpg</td>\n",
       "      <td>0.000095</td>\n",
       "      <td>0.000612</td>\n",
       "      <td>1.999293</td>\n",
       "      <td>1.997045</td>\n",
       "      <td>0.002955</td>\n",
       "      <td>6.418440</td>\n",
       "      <td>0.360528</td>\n",
       "      <td>0.221031</td>\n",
       "      <td>2</td>\n",
       "      <td>0</td>\n",
       "      <td>0</td>\n",
       "      <td>12</td>\n",
       "    </tr>\n",
       "    <tr>\n",
       "      <th>...</th>\n",
       "      <td>...</td>\n",
       "      <td>...</td>\n",
       "      <td>...</td>\n",
       "      <td>...</td>\n",
       "      <td>...</td>\n",
       "      <td>...</td>\n",
       "      <td>...</td>\n",
       "      <td>...</td>\n",
       "      <td>...</td>\n",
       "      <td>...</td>\n",
       "      <td>...</td>\n",
       "      <td>...</td>\n",
       "      <td>...</td>\n",
       "    </tr>\n",
       "    <tr>\n",
       "      <th>12595</th>\n",
       "      <td>d71d4570505d6af8f777690e63edfa8d85ea4476.jpg</td>\n",
       "      <td>1.998231</td>\n",
       "      <td>0.000691</td>\n",
       "      <td>0.001078</td>\n",
       "      <td>1.999866</td>\n",
       "      <td>0.000134</td>\n",
       "      <td>0.255618</td>\n",
       "      <td>2.887862</td>\n",
       "      <td>3.856520</td>\n",
       "      <td>0</td>\n",
       "      <td>0</td>\n",
       "      <td>2</td>\n",
       "      <td>2</td>\n",
       "    </tr>\n",
       "    <tr>\n",
       "      <th>12596</th>\n",
       "      <td>6cf1300e8e218716728d5820c0bab553306c2cfd.jpg</td>\n",
       "      <td>1.994458</td>\n",
       "      <td>0.002983</td>\n",
       "      <td>0.002559</td>\n",
       "      <td>0.002928</td>\n",
       "      <td>1.997072</td>\n",
       "      <td>0.487487</td>\n",
       "      <td>3.715104</td>\n",
       "      <td>2.797408</td>\n",
       "      <td>0</td>\n",
       "      <td>1</td>\n",
       "      <td>1</td>\n",
       "      <td>4</td>\n",
       "    </tr>\n",
       "    <tr>\n",
       "      <th>12597</th>\n",
       "      <td>8140edbba31c3a824e817e6d5fb95343199e2387.jpg</td>\n",
       "      <td>0.000252</td>\n",
       "      <td>1.999319</td>\n",
       "      <td>0.000429</td>\n",
       "      <td>0.000976</td>\n",
       "      <td>1.999024</td>\n",
       "      <td>5.712963</td>\n",
       "      <td>1.063422</td>\n",
       "      <td>0.223616</td>\n",
       "      <td>1</td>\n",
       "      <td>1</td>\n",
       "      <td>0</td>\n",
       "      <td>9</td>\n",
       "    </tr>\n",
       "    <tr>\n",
       "      <th>12598</th>\n",
       "      <td>030d439efe6fb5a7bafda45a393fc19f2bf57f54.jpg</td>\n",
       "      <td>1.998662</td>\n",
       "      <td>0.000985</td>\n",
       "      <td>0.000353</td>\n",
       "      <td>1.591379</td>\n",
       "      <td>0.408621</td>\n",
       "      <td>1.350981</td>\n",
       "      <td>5.344177</td>\n",
       "      <td>0.304842</td>\n",
       "      <td>0</td>\n",
       "      <td>0</td>\n",
       "      <td>1</td>\n",
       "      <td>1</td>\n",
       "    </tr>\n",
       "    <tr>\n",
       "      <th>12599</th>\n",
       "      <td>f1e0b9594ae9f72571f0a9dc67406ad41f2edab0.jpg</td>\n",
       "      <td>0.000030</td>\n",
       "      <td>1.999843</td>\n",
       "      <td>0.000127</td>\n",
       "      <td>1.999537</td>\n",
       "      <td>0.000463</td>\n",
       "      <td>0.238830</td>\n",
       "      <td>4.651733</td>\n",
       "      <td>2.109438</td>\n",
       "      <td>1</td>\n",
       "      <td>0</td>\n",
       "      <td>1</td>\n",
       "      <td>7</td>\n",
       "    </tr>\n",
       "  </tbody>\n",
       "</table>\n",
       "<p>12600 rows × 13 columns</p>\n",
       "</div>"
      ],
      "text/plain": [
       "                                            ImageID    mask_0    mask_1  \\\n",
       "0      cbc5c6e168e63498590db46022617123f1fe1268.jpg  0.000091  0.000127   \n",
       "1      0e72482bf56b3581c081f7da2a6180b8792c7089.jpg  1.982091  0.015125   \n",
       "2      b549040c49190cedc41327748aeb197c1670f14d.jpg  0.028770  0.037904   \n",
       "3      4f9cb2a045c6d5b9e50ad3459ea7b791eb6e18bc.jpg  0.000018  0.000213   \n",
       "4      248428d9a4a5b6229a7081c32851b90cb8d38d0c.jpg  0.000095  0.000612   \n",
       "...                                             ...       ...       ...   \n",
       "12595  d71d4570505d6af8f777690e63edfa8d85ea4476.jpg  1.998231  0.000691   \n",
       "12596  6cf1300e8e218716728d5820c0bab553306c2cfd.jpg  1.994458  0.002983   \n",
       "12597  8140edbba31c3a824e817e6d5fb95343199e2387.jpg  0.000252  1.999319   \n",
       "12598  030d439efe6fb5a7bafda45a393fc19f2bf57f54.jpg  1.998662  0.000985   \n",
       "12599  f1e0b9594ae9f72571f0a9dc67406ad41f2edab0.jpg  0.000030  1.999843   \n",
       "\n",
       "         mask_2  gender_0  gender_1     age_0     age_1     age_2  mask  \\\n",
       "0      1.999782  1.998044  0.001956  0.250848  5.446253  1.302899     2   \n",
       "1      0.002784  1.931131  0.068869  0.258239  3.414293  3.327468     0   \n",
       "2      1.933326  1.988255  0.011745  0.247382  4.898797  1.853821     2   \n",
       "3      1.999769  1.995225  0.004775  0.348515  4.155760  2.495725     2   \n",
       "4      1.999293  1.997045  0.002955  6.418440  0.360528  0.221031     2   \n",
       "...         ...       ...       ...       ...       ...       ...   ...   \n",
       "12595  0.001078  1.999866  0.000134  0.255618  2.887862  3.856520     0   \n",
       "12596  0.002559  0.002928  1.997072  0.487487  3.715104  2.797408     0   \n",
       "12597  0.000429  0.000976  1.999024  5.712963  1.063422  0.223616     1   \n",
       "12598  0.000353  1.591379  0.408621  1.350981  5.344177  0.304842     0   \n",
       "12599  0.000127  1.999537  0.000463  0.238830  4.651733  2.109438     1   \n",
       "\n",
       "       gender  age  ans  \n",
       "0           0    1   13  \n",
       "1           0    1    1  \n",
       "2           0    1   13  \n",
       "3           0    1   13  \n",
       "4           0    0   12  \n",
       "...       ...  ...  ...  \n",
       "12595       0    2    2  \n",
       "12596       1    1    4  \n",
       "12597       1    0    9  \n",
       "12598       0    1    1  \n",
       "12599       0    1    7  \n",
       "\n",
       "[12600 rows x 13 columns]"
      ]
     },
     "execution_count": 277,
     "metadata": {},
     "output_type": "execute_result"
    }
   ],
   "source": [
    "all_df"
   ]
  },
  {
   "cell_type": "code",
   "execution_count": 278,
   "metadata": {},
   "outputs": [],
   "source": [
    "to_compare = pd.read_csv(\"submits/ensemble2.csv\")"
   ]
  },
  {
   "cell_type": "code",
   "execution_count": 279,
   "metadata": {},
   "outputs": [
    {
     "data": {
      "text/plain": [
       "12489"
      ]
     },
     "execution_count": 279,
     "metadata": {},
     "output_type": "execute_result"
    }
   ],
   "source": [
    "(to_compare[\"ans\"] == all_df[\"ans\"]).sum()"
   ]
  },
  {
   "cell_type": "code",
   "execution_count": 263,
   "metadata": {},
   "outputs": [],
   "source": [
    "import os"
   ]
  },
  {
   "cell_type": "code",
   "execution_count": 264,
   "metadata": {},
   "outputs": [],
   "source": [
    "all_df[[\"ImageID\", \"ans\"]].to_csv(os.path.join(\"submits\", 'ensemble6.csv'), index=False)"
   ]
  }
 ],
 "metadata": {
  "kernelspec": {
   "display_name": "mlenv",
   "language": "python",
   "name": "python3"
  },
  "language_info": {
   "codemirror_mode": {
    "name": "ipython",
    "version": 3
   },
   "file_extension": ".py",
   "mimetype": "text/x-python",
   "name": "python",
   "nbconvert_exporter": "python",
   "pygments_lexer": "ipython3",
   "version": "3.8.5"
  },
  "orig_nbformat": 4
 },
 "nbformat": 4,
 "nbformat_minor": 2
}
