{
 "cells": [
  {
   "cell_type": "code",
   "execution_count": 1,
   "metadata": {},
   "outputs": [],
   "source": [
    "import matplotlib.pyplot as plt\n",
    "import pandas as pd\n",
    "import numpy as np\n",
    "\n",
    "import torch\n",
    "from torch.utils.data import Dataset, DataLoader, random_split\n",
    "from torch import nn\n",
    "from torchvision.models import resnet50\n",
    "from torchvision.transforms import Compose, ToTensor, Resize\n",
    "\n",
    "from sklearn.model_selection import train_test_split\n",
    "from sklearn.metrics import f1_score\n",
    "\n",
    "from tqdm.notebook import tqdm\n",
    "\n",
    "from PIL import Image\n",
    "\n",
    "import os\n",
    "import random"
   ]
  },
  {
   "cell_type": "code",
   "execution_count": 2,
   "metadata": {},
   "outputs": [],
   "source": [
    "random_seed = 42\n",
    "torch.manual_seed(random_seed)\n",
    "np.random.seed(random_seed)\n",
    "random.seed(random_seed)\n",
    "torch.cuda.manual_seed(random_seed)\n",
    "torch.cuda.manual_seed_all(random_seed) # if use multi-GPU"
   ]
  },
  {
   "cell_type": "code",
   "execution_count": 3,
   "metadata": {},
   "outputs": [],
   "source": [
    "train_path = os.path.join(\"..\", \"input\", \"data\", \"train\")\n",
    "eval_path = os.path.join(\"..\", \"input\", \"data\", \"eval\")"
   ]
  },
  {
   "cell_type": "code",
   "execution_count": 4,
   "metadata": {},
   "outputs": [],
   "source": [
    "df_train = pd.read_csv(os.path.join(train_path, \"train.csv\"))\n",
    "df_eval = pd.read_csv(os.path.join(eval_path, \"info.csv\"))"
   ]
  },
  {
   "cell_type": "code",
   "execution_count": 5,
   "metadata": {},
   "outputs": [],
   "source": [
    "class MaskDataset(Dataset):\n",
    "    def __init__(self, transform=None):\n",
    "        super().__init__()\n",
    "        all_images = []\n",
    "        for path in df_train[\"path\"]:\n",
    "            image_path = os.path.join(train_path, \"images\", path)\n",
    "            all_images += [os.path.join(image_path, image_filename) for image_filename in os.listdir(image_path) if image_filename[0] != \".\"]\n",
    "\n",
    "        self.categories = {stat: i for i, stat in enumerate((Mask+Gender+Age) for Mask in [\"Wear\", \"Incorrect\", \"NotWear\"] for Gender in [\"male\", \"female\"] for Age in [\"Under30\", \"30to60\", \"Overeq60\"])}\n",
    "        self.transform = transform\n",
    "\n",
    "        category = []\n",
    "        class_masked = []\n",
    "        class_sex = []\n",
    "        class_age = []\n",
    "        for image_filename in all_images:\n",
    "            *_, person_info, mask_info = image_filename.split(os.sep)\n",
    "            id, sex, _, age = person_info.split('_')\n",
    "            age = int(age)\n",
    "            if mask_info[:-4] == \"normal\":\n",
    "                mask_info = \"NotWear\"\n",
    "            elif mask_info[:-4] == \"incorrect_mask\":\n",
    "                mask_info = \"Incorrect\"\n",
    "            else:\n",
    "                mask_info = \"Wear\"\n",
    "            \n",
    "            if age < 30:\n",
    "                age = \"Under30\"\n",
    "            elif age >= 60:\n",
    "                age = \"Overeq60\"\n",
    "            else:\n",
    "                age = \"30to60\"\n",
    "                \n",
    "            category.append(self.categories[mask_info+sex+age])\n",
    "            \n",
    "            class_masked.append(mask_info)\n",
    "            class_sex.append(sex)\n",
    "            class_age.append(age)\n",
    "            \n",
    "        self.train_Xy = pd.DataFrame(data=[all_images, category, class_masked, class_sex, class_age]).transpose()\n",
    "        # self.train_Xy.columns = [\"image_path\", \"class\", \"masked\", \"sex\", \"age\"]\n",
    "        self.train_Xy = self.train_Xy.to_numpy()\n",
    "        \n",
    "    def __getitem__(self, idx):\n",
    "        image = Image.open(self.train_Xy[idx][0])\n",
    "        if self.transform:\n",
    "            image = self.transform(image)\n",
    "        label = self.train_Xy[idx][1]\n",
    "        return image, label\n",
    "\n",
    "    def __len__(self):\n",
    "        return len(self.train_Xy)"
   ]
  },
  {
   "cell_type": "code",
   "execution_count": 6,
   "metadata": {},
   "outputs": [],
   "source": [
    "class MaskDatasetEval(Dataset):\n",
    "    def __init__(self, transform=None):\n",
    "        super().__init__()\n",
    "        self.df_eval = pd.read_csv(os.path.join(eval_path, \"info.csv\"))\n",
    "        self.eval_image_path = os.path.join(eval_path, \"images\")\n",
    "        self.transform = transform\n",
    "        \n",
    "    def __getitem__(self, idx):\n",
    "        image = Image.open(os.path.join(self.eval_image_path, self.df_eval['ImageID'][idx]))\n",
    "        if self.transform:\n",
    "            image = self.transform(image)\n",
    "        return image\n",
    "\n",
    "    def __len__(self):\n",
    "        return len(self.df_eval)"
   ]
  },
  {
   "cell_type": "code",
   "execution_count": 7,
   "metadata": {},
   "outputs": [],
   "source": [
    "ds = MaskDataset(transform=Compose([ToTensor()]))\n",
    "ds_eval = MaskDatasetEval(transform=Compose([ToTensor()]))"
   ]
  },
  {
   "cell_type": "code",
   "execution_count": 8,
   "metadata": {},
   "outputs": [],
   "source": [
    "# train_ds, test_ds = train_test_split(ds, test_size=0.2, stratify=list(range(18)))\n",
    "train_ds, valid_ds = random_split(ds, [int(len(ds)*0.8), int(len(ds)*0.2)])"
   ]
  },
  {
   "cell_type": "code",
   "execution_count": 9,
   "metadata": {},
   "outputs": [],
   "source": [
    "train_dataloader = DataLoader(train_ds, batch_size=32, shuffle=True, num_workers=4, drop_last=True)\n",
    "valid_dataloader = DataLoader(valid_ds, batch_size=32, shuffle=True, num_workers=4, drop_last=True)"
   ]
  },
  {
   "cell_type": "code",
   "execution_count": 42,
   "metadata": {},
   "outputs": [
    {
     "name": "stdout",
     "output_type": "stream",
     "text": [
      "epoch 1\n"
     ]
    },
    {
     "data": {
      "application/vnd.jupyter.widget-view+json": {
       "model_id": "7fb961b3b5134a21be3e2ca7c9fea750",
       "version_major": 2,
       "version_minor": 0
      },
      "text/plain": [
       "HBox(children=(HTML(value=''), FloatProgress(value=0.0, max=472.0), HTML(value='')))"
      ]
     },
     "metadata": {},
     "output_type": "display_data"
    },
    {
     "name": "stdout",
     "output_type": "stream",
     "text": [
      "\n",
      "train loss : 0.6050893028377223, acc : 84.11679077148438% f1 score :  0.827249588259534\n"
     ]
    },
    {
     "data": {
      "application/vnd.jupyter.widget-view+json": {
       "model_id": "8f45db82c3cf4afe90d5e2f0d296a5ff",
       "version_major": 2,
       "version_minor": 0
      },
      "text/plain": [
       "HBox(children=(HTML(value=''), FloatProgress(value=0.0, max=118.0), HTML(value='')))"
      ]
     },
     "metadata": {},
     "output_type": "display_data"
    },
    {
     "name": "stdout",
     "output_type": "stream",
     "text": [
      "\n",
      "val loss : 0.22068728222432782, acc : 92.77012634277344% f1 score :  0.9129078668321612\n",
      "epoch 2\n"
     ]
    },
    {
     "data": {
      "application/vnd.jupyter.widget-view+json": {
       "model_id": "6316691759e5461cb41e27a6ada9a15c",
       "version_major": 2,
       "version_minor": 0
      },
      "text/plain": [
       "HBox(children=(HTML(value=''), FloatProgress(value=0.0, max=472.0), HTML(value='')))"
      ]
     },
     "metadata": {},
     "output_type": "display_data"
    },
    {
     "name": "stdout",
     "output_type": "stream",
     "text": [
      "\n",
      "train loss : 0.13727971681362114, acc : 96.31224060058594% f1 score :  0.9618812671300125\n"
     ]
    },
    {
     "data": {
      "application/vnd.jupyter.widget-view+json": {
       "model_id": "4dfda3fe28db4e2a86d10959097bb980",
       "version_major": 2,
       "version_minor": 0
      },
      "text/plain": [
       "HBox(children=(HTML(value=''), FloatProgress(value=0.0, max=118.0), HTML(value='')))"
      ]
     },
     "metadata": {},
     "output_type": "display_data"
    },
    {
     "name": "stdout",
     "output_type": "stream",
     "text": [
      "\n",
      "val loss : 0.12227701750915435, acc : 95.78919219970703% f1 score :  0.9544062009522466\n",
      "epoch 3\n"
     ]
    },
    {
     "data": {
      "application/vnd.jupyter.widget-view+json": {
       "model_id": "fb89a52051a342f3ab2c3b8dccc2143b",
       "version_major": 2,
       "version_minor": 0
      },
      "text/plain": [
       "HBox(children=(HTML(value=''), FloatProgress(value=0.0, max=472.0), HTML(value='')))"
      ]
     },
     "metadata": {},
     "output_type": "display_data"
    },
    {
     "name": "stdout",
     "output_type": "stream",
     "text": [
      "\n",
      "train loss : 0.04714319495271134, acc : 99.14591979980469% f1 score :  0.9914418618389228\n"
     ]
    },
    {
     "data": {
      "application/vnd.jupyter.widget-view+json": {
       "model_id": "b05d41305eb44560a7f369089ebb042b",
       "version_major": 2,
       "version_minor": 0
      },
      "text/plain": [
       "HBox(children=(HTML(value=''), FloatProgress(value=0.0, max=118.0), HTML(value='')))"
      ]
     },
     "metadata": {},
     "output_type": "display_data"
    },
    {
     "name": "stdout",
     "output_type": "stream",
     "text": [
      "\n",
      "val loss : 0.07261669128280827, acc : 97.59004211425781% f1 score :  0.975877902652713\n",
      "epoch 4\n"
     ]
    },
    {
     "data": {
      "application/vnd.jupyter.widget-view+json": {
       "model_id": "864803246aec45f6b6879af46015497f",
       "version_major": 2,
       "version_minor": 0
      },
      "text/plain": [
       "HBox(children=(HTML(value=''), FloatProgress(value=0.0, max=472.0), HTML(value='')))"
      ]
     },
     "metadata": {},
     "output_type": "display_data"
    },
    {
     "name": "stdout",
     "output_type": "stream",
     "text": [
      "\n",
      "train loss : 0.025265316999817298, acc : 99.56303405761719% f1 score :  0.995627683011979\n"
     ]
    },
    {
     "data": {
      "application/vnd.jupyter.widget-view+json": {
       "model_id": "e9994d909b5045a1a18dda2190786061",
       "version_major": 2,
       "version_minor": 0
      },
      "text/plain": [
       "HBox(children=(HTML(value=''), FloatProgress(value=0.0, max=118.0), HTML(value='')))"
      ]
     },
     "metadata": {},
     "output_type": "display_data"
    },
    {
     "name": "stdout",
     "output_type": "stream",
     "text": [
      "\n",
      "val loss : 0.03781169766789081, acc : 98.80826568603516% f1 score :  0.9880144360238492\n",
      "epoch 5\n"
     ]
    },
    {
     "data": {
      "application/vnd.jupyter.widget-view+json": {
       "model_id": "9487384d71714341bf8b816faeae75db",
       "version_major": 2,
       "version_minor": 0
      },
      "text/plain": [
       "HBox(children=(HTML(value=''), FloatProgress(value=0.0, max=472.0), HTML(value='')))"
      ]
     },
     "metadata": {},
     "output_type": "display_data"
    },
    {
     "name": "stdout",
     "output_type": "stream",
     "text": [
      "\n",
      "train loss : 0.019279694530947165, acc : 99.64910125732422% f1 score :  0.9964881334660173\n"
     ]
    },
    {
     "data": {
      "application/vnd.jupyter.widget-view+json": {
       "model_id": "82c09c29bd7a43f1907933d871a8d86a",
       "version_major": 2,
       "version_minor": 0
      },
      "text/plain": [
       "HBox(children=(HTML(value=''), FloatProgress(value=0.0, max=118.0), HTML(value='')))"
      ]
     },
     "metadata": {},
     "output_type": "display_data"
    },
    {
     "name": "stdout",
     "output_type": "stream",
     "text": [
      "\n",
      "val loss : 0.07144302315418057, acc : 97.98728942871094% f1 score :  0.9785027168495554\n",
      "epoch 6\n"
     ]
    },
    {
     "data": {
      "application/vnd.jupyter.widget-view+json": {
       "model_id": "5db146095d8b49afbf94d54f5747116e",
       "version_major": 2,
       "version_minor": 0
      },
      "text/plain": [
       "HBox(children=(HTML(value=''), FloatProgress(value=0.0, max=472.0), HTML(value='')))"
      ]
     },
     "metadata": {},
     "output_type": "display_data"
    },
    {
     "name": "stdout",
     "output_type": "stream",
     "text": [
      "\n",
      "train loss : 0.02659093326014877, acc : 99.34454345703125% f1 score :  0.9934434658496553\n"
     ]
    },
    {
     "data": {
      "application/vnd.jupyter.widget-view+json": {
       "model_id": "21b48bb13e6c40c0be3f10d44fdb57be",
       "version_major": 2,
       "version_minor": 0
      },
      "text/plain": [
       "HBox(children=(HTML(value=''), FloatProgress(value=0.0, max=118.0), HTML(value='')))"
      ]
     },
     "metadata": {},
     "output_type": "display_data"
    },
    {
     "name": "stdout",
     "output_type": "stream",
     "text": [
      "\n",
      "val loss : 0.051099399726253825, acc : 98.41101837158203% f1 score :  0.9838336101878795\n",
      "epoch 7\n"
     ]
    },
    {
     "data": {
      "application/vnd.jupyter.widget-view+json": {
       "model_id": "3a418484fc6a4e14bd2dffa35f22ee53",
       "version_major": 2,
       "version_minor": 0
      },
      "text/plain": [
       "HBox(children=(HTML(value=''), FloatProgress(value=0.0, max=472.0), HTML(value='')))"
      ]
     },
     "metadata": {},
     "output_type": "display_data"
    },
    {
     "name": "stdout",
     "output_type": "stream",
     "text": [
      "\n",
      "train loss : 0.015939416908175623, acc : 99.6424789428711% f1 score :  0.9964249890520327\n"
     ]
    },
    {
     "data": {
      "application/vnd.jupyter.widget-view+json": {
       "model_id": "906d12f64bc24a94b5c2132308e03501",
       "version_major": 2,
       "version_minor": 0
      },
      "text/plain": [
       "HBox(children=(HTML(value=''), FloatProgress(value=0.0, max=118.0), HTML(value='')))"
      ]
     },
     "metadata": {},
     "output_type": "display_data"
    },
    {
     "name": "stdout",
     "output_type": "stream",
     "text": [
      "\n",
      "val loss : 0.03323273973685484, acc : 99.02012634277344% f1 score :  0.9901606177240321\n",
      "epoch 8\n"
     ]
    },
    {
     "data": {
      "application/vnd.jupyter.widget-view+json": {
       "model_id": "a6d8e75f39394a6dac7fb307b3a9849c",
       "version_major": 2,
       "version_minor": 0
      },
      "text/plain": [
       "HBox(children=(HTML(value=''), FloatProgress(value=0.0, max=472.0), HTML(value='')))"
      ]
     },
     "metadata": {},
     "output_type": "display_data"
    },
    {
     "name": "stdout",
     "output_type": "stream",
     "text": [
      "\n",
      "train loss : 0.014815908685766587, acc : 99.66233825683594% f1 score :  0.9966244253995786\n"
     ]
    },
    {
     "data": {
      "application/vnd.jupyter.widget-view+json": {
       "model_id": "3598dd9a3d1a40718bcaa567b5186822",
       "version_major": 2,
       "version_minor": 0
      },
      "text/plain": [
       "HBox(children=(HTML(value=''), FloatProgress(value=0.0, max=118.0), HTML(value='')))"
      ]
     },
     "metadata": {},
     "output_type": "display_data"
    },
    {
     "name": "stdout",
     "output_type": "stream",
     "text": [
      "\n",
      "val loss : 0.03796726728392907, acc : 98.75529479980469% f1 score :  0.9874292032188264\n",
      "epoch 9\n"
     ]
    },
    {
     "data": {
      "application/vnd.jupyter.widget-view+json": {
       "model_id": "5739d03fb7b2449f8de24e5b97537fbc",
       "version_major": 2,
       "version_minor": 0
      },
      "text/plain": [
       "HBox(children=(HTML(value=''), FloatProgress(value=0.0, max=472.0), HTML(value='')))"
      ]
     },
     "metadata": {},
     "output_type": "display_data"
    },
    {
     "name": "stdout",
     "output_type": "stream",
     "text": [
      "\n",
      "train loss : 0.0110428565480476, acc : 99.78150939941406% f1 score :  0.9978125393573875\n"
     ]
    },
    {
     "data": {
      "application/vnd.jupyter.widget-view+json": {
       "model_id": "1688cc8225ee4f75b164b01607b3486e",
       "version_major": 2,
       "version_minor": 0
      },
      "text/plain": [
       "HBox(children=(HTML(value=''), FloatProgress(value=0.0, max=118.0), HTML(value='')))"
      ]
     },
     "metadata": {},
     "output_type": "display_data"
    },
    {
     "name": "stdout",
     "output_type": "stream",
     "text": [
      "\n",
      "val loss : 0.05455883996170488, acc : 98.41101837158203% f1 score :  0.9834791448369301\n",
      "epoch 10\n"
     ]
    },
    {
     "data": {
      "application/vnd.jupyter.widget-view+json": {
       "model_id": "24a4f574635b49bd845a33ad1956f23a",
       "version_major": 2,
       "version_minor": 0
      },
      "text/plain": [
       "HBox(children=(HTML(value=''), FloatProgress(value=0.0, max=472.0), HTML(value='')))"
      ]
     },
     "metadata": {},
     "output_type": "display_data"
    },
    {
     "name": "stdout",
     "output_type": "stream",
     "text": [
      "\n",
      "train loss : 0.01786048406803136, acc : 99.48358154296875% f1 score :  0.9948318695374166\n"
     ]
    },
    {
     "data": {
      "application/vnd.jupyter.widget-view+json": {
       "model_id": "55ea6e3c66344c15a081c18f544bd7a3",
       "version_major": 2,
       "version_minor": 0
      },
      "text/plain": [
       "HBox(children=(HTML(value=''), FloatProgress(value=0.0, max=118.0), HTML(value='')))"
      ]
     },
     "metadata": {},
     "output_type": "display_data"
    },
    {
     "name": "stdout",
     "output_type": "stream",
     "text": [
      "\n",
      "val loss : 0.10865670911991432, acc : 96.63665008544922% f1 score :  0.9662562027299122\n"
     ]
    }
   ],
   "source": [
    "model = resnet50(pretrained=True)\n",
    "# efficientnet은 성능이 많이 튄다고 함.\n",
    "model.fc = nn.Linear(in_features=2048, out_features=18)\n",
    "\n",
    "device = \"cuda\" if torch.cuda.is_available() else \"cpu\"\n",
    "\n",
    "epoch = 10\n",
    "patience = 5\n",
    "best_loss = np.inf\n",
    "counter = 0\n",
    "\n",
    "model = model.to(device)\n",
    "optimizer = torch.optim.Adam(model.parameters(), lr=2e-5)\n",
    "loss_fn = nn.CrossEntropyLoss()\n",
    "\n",
    "for i in range(epoch):\n",
    "    print(f\"epoch {i+1}\")\n",
    "    model.train()\n",
    "    acc = 0\n",
    "    total_loss = 0\n",
    "    pred_list = None\n",
    "    y_list = None\n",
    "    for X, y in tqdm(train_dataloader):\n",
    "        X, y = X.to(device), y.to(device)\n",
    "        pred = model(X)\n",
    "        \n",
    "        loss = loss_fn(pred, y)\n",
    "        \n",
    "        optimizer.zero_grad()\n",
    "        loss.backward()\n",
    "        optimizer.step()\n",
    "        \n",
    "        pred_onehot = pred.argmax(dim=1)\n",
    "        acc += sum(pred_onehot == y) / X.shape[0]\n",
    "        total_loss += loss.item()\n",
    "        \n",
    "        if pred_list is not None:\n",
    "            pred_list = torch.cat((pred_list, pred_onehot))\n",
    "            y_list = torch.cat((y_list, y))\n",
    "        else:\n",
    "            pred_list = pred_onehot\n",
    "            y_list = y\n",
    "    print(f\"train loss : {total_loss/len(train_dataloader)}, acc : {acc/len(train_dataloader) * 100}%\", end=\" \")\n",
    "    print(\"f1 score : \", f1_score(y_list.cpu(), pred_list.cpu(), labels=list(range(18)), average='weighted'))\n",
    "    \n",
    "    model.eval()\n",
    "    acc = 0\n",
    "    total_loss = 0\n",
    "    pred_list = None\n",
    "    y_list = None\n",
    "    with torch.no_grad():\n",
    "        for X, y in tqdm(valid_dataloader):\n",
    "            X, y = X.to(device), y.to(device)\n",
    "            pred = model(X)\n",
    "            \n",
    "            pred_onehot = pred.argmax(dim=1)\n",
    "            loss = loss_fn(pred, y).item()\n",
    "            acc += sum(pred_onehot == y) / X.shape[0]\n",
    "            total_loss += loss\n",
    "            \n",
    "            if pred_list is not None:\n",
    "                pred_list = torch.cat((pred_list, pred_onehot))\n",
    "                y_list = torch.cat((y_list, y))\n",
    "            else:\n",
    "                pred_list = pred_onehot\n",
    "                y_list = y\n",
    "    total_loss = total_loss/len(valid_dataloader)\n",
    "    print(f\"val loss : {total_loss}, acc : {acc/len(valid_dataloader) * 100}%\", end=\" \")\n",
    "    print(\"f1 score : \", f1_score(y_list.cpu(), pred_list.cpu(), labels=list(range(18)), average='weighted'))\n",
    "    \n",
    "    torch.save({\n",
    "        \"epoch\": i,\n",
    "        \"model_state_dict\": model.state_dict(),\n",
    "        \"optimizer_state_dict\": optimizer.state_dict(),\n",
    "        \"earlystop_bestloss\": best_loss,\n",
    "        \"earlystop_counter\": counter,\n",
    "        \"train_losslist\": train_loss_list,\n",
    "        \"val_losslist\": val_loss_list,\n",
    "        \"val_metrics\": val_metric_list\n",
    "    })\n",
    "    \n",
    "    if best_loss > total_loss:\n",
    "        print(f\"validation loss improved. {best_loss}->{total_loss}\")\n",
    "        best_loss = total_loss\n",
    "        couter = 0\n",
    "    else:\n",
    "        counter += 1\n",
    "    if counter == patience:\n",
    "        print(f\"No validation improvement until {patience} iteration. Stopping.\")\n",
    "    "
   ]
  },
  {
   "cell_type": "code",
   "execution_count": 45,
   "metadata": {},
   "outputs": [],
   "source": [
    "os.makedirs(\"saved\", exist_ok=True)\n",
    "torch.save(model.state_dict(), os.path.join(\"saved\", \"baseline.pt\"))"
   ]
  },
  {
   "cell_type": "code",
   "execution_count": 10,
   "metadata": {},
   "outputs": [],
   "source": [
    "checkpoint = torch.load(os.path.join(\"saved\", \"baseline.pt\"))"
   ]
  },
  {
   "cell_type": "code",
   "execution_count": 12,
   "metadata": {},
   "outputs": [],
   "source": [
    "model = resnet50(pretrained=True)\n",
    "# efficientnet은 성능이 많이 튄다고 함.\n",
    "model.fc = nn.Linear(in_features=2048, out_features=18)"
   ]
  },
  {
   "cell_type": "code",
   "execution_count": 16,
   "metadata": {},
   "outputs": [
    {
     "data": {
      "text/plain": [
       "<All keys matched successfully>"
      ]
     },
     "execution_count": 16,
     "metadata": {},
     "output_type": "execute_result"
    }
   ],
   "source": [
    "model.load_state_dict(checkpoint())"
   ]
  },
  {
   "cell_type": "code",
   "execution_count": 22,
   "metadata": {},
   "outputs": [
    {
     "data": {
      "text/plain": [
       "torch.Size([3, 512, 384])"
      ]
     },
     "execution_count": 22,
     "metadata": {},
     "output_type": "execute_result"
    }
   ],
   "source": [
    "ds_eval[0].shape"
   ]
  },
  {
   "cell_type": "code",
   "execution_count": 17,
   "metadata": {},
   "outputs": [],
   "source": [
    "input, target = next(iter(valid_dataloader))"
   ]
  },
  {
   "cell_type": "code",
   "execution_count": 47,
   "metadata": {},
   "outputs": [],
   "source": [
    "with torch.no_grad():\n",
    "    pred = model(input.cuda())"
   ]
  },
  {
   "cell_type": "code",
   "execution_count": 48,
   "metadata": {},
   "outputs": [],
   "source": [
    "pred = pred.argmax(dim=1)"
   ]
  },
  {
   "cell_type": "code",
   "execution_count": 38,
   "metadata": {},
   "outputs": [
    {
     "data": {
      "text/plain": [
       "<matplotlib.image.AxesImage at 0x7fb169f11af0>"
      ]
     },
     "execution_count": 38,
     "metadata": {},
     "output_type": "execute_result"
    },
    {
     "data": {
      "image/png": "[encoded data removed]",
      "text/plain": [
       "<Figure size 432x288 with 1 Axes>"
      ]
     },
     "metadata": {
      "needs_background": "light"
     },
     "output_type": "display_data"
    }
   ],
   "source": [
    "batch_idx = 4\n",
    "label = list(ds.categories.keys())[pred[batch_idx]]\n",
    "plt.title(label)\n",
    "plt.imshow(input[batch_idx].permute(1, 2, 0))\n"
   ]
  },
  {
   "cell_type": "code",
   "execution_count": 39,
   "metadata": {},
   "outputs": [],
   "source": [
    "target = []\n",
    "prediction = []\n",
    "with torch.no_grad():\n",
    "    for X, y in valid_dataloader:\n",
    "        X, y = X.to(device), y.to(device)\n",
    "        pred = model(X)\n",
    "        target.append(y.cpu().numpy())\n",
    "        prediction.append(pred.cpu().numpy())"
   ]
  },
  {
   "cell_type": "code",
   "execution_count": 40,
   "metadata": {},
   "outputs": [
    {
     "data": {
      "text/plain": [
       "array([ 0,  1,  2,  3,  4,  5,  6,  7,  8,  9, 10, 11, 12, 13, 14, 15, 16,\n",
       "       17])"
      ]
     },
     "execution_count": 40,
     "metadata": {},
     "output_type": "execute_result"
    }
   ],
   "source": [
    "np.unique(np.array(prediction).argmax(axis=2))"
   ]
  },
  {
   "cell_type": "code",
   "execution_count": 41,
   "metadata": {},
   "outputs": [
    {
     "data": {
      "text/plain": [
       "array([-19.305578, -19.226582, -18.791616, ...,  21.229116,  21.946497,\n",
       "        22.272911], dtype=float32)"
      ]
     },
     "execution_count": 41,
     "metadata": {},
     "output_type": "execute_result"
    }
   ],
   "source": [
    "np.unique(np.array(prediction))"
   ]
  }
 ],
 "metadata": {
  "kernelspec": {
   "display_name": "mlenv",
   "language": "python",
   "name": "python3"
  },
  "language_info": {
   "codemirror_mode": {
    "name": "ipython",
    "version": 3
   },
   "file_extension": ".py",
   "mimetype": "text/x-python",
   "name": "python",
   "nbconvert_exporter": "python",
   "pygments_lexer": "ipython3",
   "version": "3.8.5"
  },
  "orig_nbformat": 4
 },
 "nbformat": 4,
 "nbformat_minor": 2
}
