{
 "cells": [
  {
   "cell_type": "code",
   "execution_count": 1,
   "id": "e568798d-53f6-4642-930a-ed0eaa3250e3",
   "metadata": {
    "tags": []
   },
   "outputs": [],
   "source": [
    "import warnings\n",
    "warnings.filterwarnings(action='ignore')\n",
    "\n",
    "import os\n",
    "import gc\n",
    "import cv2\n",
    "import random\n",
    "import argparse\n",
    "import numpy as np\n",
    "import pandas as pd\n",
    "from glob import glob\n",
    "\n",
    "import torch\n",
    "import torch.nn as nn\n",
    "import torch.optim as optim\n",
    "from torch.utils.data import Dataset, DataLoader\n",
    "\n",
    "from tqdm.autonotebook import tqdm\n",
    "from sklearn.metrics import f1_score\n",
    "from sklearn.model_selection import train_test_split\n",
    "\n",
    "import wandb\n",
    "\n",
    "from utils_.set_path import *\n",
    "from utils_.set_seed import seed_everything\n",
    "from utils_.loss import FocalLoss, LabelSmoothingLoss, F1Loss\n",
    "from utils_.get_class_weight import calc_class_weight\n",
    "from runner.pytorch_timm import TimmModel\n",
    "from runner.train_runner import CustomTrainer\n",
    "from data.dataset import CustomTrainDataset"
   ]
  },
  {
   "cell_type": "code",
   "execution_count": 31,
   "id": "c13a0351-8045-4c08-8b05-3ed527712430",
   "metadata": {
    "tags": []
   },
   "outputs": [],
   "source": [
    "def main(args, model, model_name, device):\n",
    "    train_df = pd.read_csv(TRAIN_CSV_PATH)\n",
    "    train_, val_ = train_test_split(train_df, test_size=0.2, random_state=args.seed)\n",
    "    \n",
    "    val_dataset = CustomTrainDataset(model_name, data_dir, val_['path'].values, args.resize, transforms=False)\n",
    "    valid_dataloader = DataLoader(val_dataset, batch_size = args.batch_size, shuffle=False, num_workers=8)\n",
    "    \n",
    "    model.to(device)\n",
    "    model = nn.DataParallel(model)\n",
    "    model.eval()\n",
    "    \n",
    "    pred_list, prob_list, label_list = [], [], []\n",
    "    with torch.no_grad():\n",
    "        for imgs, labels in tqdm(iter(valid_dataloader)):\n",
    "            imgs = imgs.float().to(device)\n",
    "            labels = labels.to(device)\n",
    "\n",
    "            logit = model(imgs)\n",
    "            \n",
    "            pred_list += logit.argmax(1).detach().cpu().numpy().tolist()\n",
    "            # prob_list += logit.softmax(1).detach().cpu().numpy().tolist()\n",
    "            prob_list += (logit.max(1))[0].detach().cpu().numpy().tolist()\n",
    "            label_list += labels.detach().cpu().numpy().tolist()\n",
    "            \n",
    "        return pred_list, prob_list, label_list"
   ]
  },
  {
   "cell_type": "code",
   "execution_count": 3,
   "id": "e41f7c14-76be-4176-b952-4eba52de9519",
   "metadata": {
    "tags": []
   },
   "outputs": [],
   "source": [
    "parser = argparse.ArgumentParser()\n",
    "    \n",
    "# Data and model checkpoints directories\n",
    "parser.add_argument('--seed', type=int, default=909)\n",
    "parser.add_argument(\"--resize\", nargs=\"+\", type=int, default=[256, 192])\n",
    "parser.add_argument('--batch_size', type=int, default=32)\n",
    "parser.add_argument('--model', type=str, default='resnet34')\n",
    "\n",
    "args = parser.parse_args(args=[])"
   ]
  },
  {
   "cell_type": "code",
   "execution_count": 4,
   "id": "1fbaa065-2923-4e5d-9072-fa4fe61ee149",
   "metadata": {
    "tags": []
   },
   "outputs": [],
   "source": [
    "seed_everything(args.seed)\n",
    "device = torch.device('cuda') if torch.cuda.is_available() else torch.device('cpu')"
   ]
  },
  {
   "cell_type": "code",
   "execution_count": 5,
   "id": "bdb29fe9-bf6f-4c9a-8b6e-decaee38cc4c",
   "metadata": {
    "tags": []
   },
   "outputs": [
    {
     "name": "stdout",
     "output_type": "stream",
     "text": [
      "Project 9 Valid Inference Start\n"
     ]
    }
   ],
   "source": [
    "data_dir = TRAIN_IMG_FOLDER_PATH\n",
    "model_dir = '/workspace/models_all'\n",
    "project_idx = len(glob('/workspace/models_all/*'))\n",
    "project_idx = 9\n",
    "print(f'Project {project_idx} Valid Inference Start')"
   ]
  },
  {
   "cell_type": "code",
   "execution_count": 15,
   "id": "69d08fb6-fb0c-44af-ab77-a91af0413872",
   "metadata": {
    "tags": []
   },
   "outputs": [
    {
     "data": {
      "application/vnd.jupyter.widget-view+json": {
       "model_id": "62fc98d802de492d95b3cd541a73167e",
       "version_major": 2,
       "version_minor": 0
      },
      "text/plain": [
       "HBox(children=(HTML(value=''), FloatProgress(value=0.0, max=119.0), HTML(value='')))"
      ]
     },
     "metadata": {},
     "output_type": "display_data"
    },
    {
     "name": "stdout",
     "output_type": "stream",
     "text": [
      "\n"
     ]
    }
   ],
   "source": [
    "# Mask\n",
    "model_name = \"Mask\"\n",
    "args.model = 'convnext_base'\n",
    "args.resize = [256, 192]\n",
    "\n",
    "mask_model_weights = torch.load(glob(f'{model_dir}/Project{project_idx}/Mask*')[0])\n",
    "mask_model = TimmModel(args, num_classes=3, pretrained=True).to(device)\n",
    "mask_model.load_state_dict(mask_model_weights)\n",
    "\n",
    "mask_preds, _, mask_labels = main(args, mask_model, model_name, device)"
   ]
  },
  {
   "cell_type": "code",
   "execution_count": 16,
   "id": "dee2bb12-78bd-4807-8c3a-c6cb70de3bea",
   "metadata": {
    "tags": []
   },
   "outputs": [
    {
     "data": {
      "application/vnd.jupyter.widget-view+json": {
       "model_id": "31f5095a97d341ff8274d2f84b09282c",
       "version_major": 2,
       "version_minor": 0
      },
      "text/plain": [
       "HBox(children=(HTML(value=''), FloatProgress(value=0.0, max=119.0), HTML(value='')))"
      ]
     },
     "metadata": {},
     "output_type": "display_data"
    },
    {
     "name": "stdout",
     "output_type": "stream",
     "text": [
      "\n"
     ]
    }
   ],
   "source": [
    "# Gender\n",
    "model_name = \"Gender\"\n",
    "args.model = 'convnext_base'\n",
    "args.resize = [256, 192]\n",
    "\n",
    "gender_model_weights = torch.load(glob(f'{model_dir}/Project{project_idx}/Gender*')[0])\n",
    "gender_model = TimmModel(args, num_classes=2, pretrained=True).to(device)\n",
    "gender_model.load_state_dict(gender_model_weights)\n",
    "\n",
    "gender_preds, _, gender_labels = main(args, gender_model, model_name, device)"
   ]
  },
  {
   "cell_type": "code",
   "execution_count": 32,
   "id": "58eccdb0-31db-45e2-b981-791d83819911",
   "metadata": {
    "tags": []
   },
   "outputs": [
    {
     "data": {
      "application/vnd.jupyter.widget-view+json": {
       "model_id": "1d840fd52e974d5db083885c9b6e62e6",
       "version_major": 2,
       "version_minor": 0
      },
      "text/plain": [
       "HBox(children=(HTML(value=''), FloatProgress(value=0.0, max=119.0), HTML(value='')))"
      ]
     },
     "metadata": {},
     "output_type": "display_data"
    },
    {
     "name": "stdout",
     "output_type": "stream",
     "text": [
      "\n"
     ]
    },
    {
     "data": {
      "application/vnd.jupyter.widget-view+json": {
       "model_id": "d071129cfc824e76af214ca95894f6fc",
       "version_major": 2,
       "version_minor": 0
      },
      "text/plain": [
       "HBox(children=(HTML(value=''), FloatProgress(value=0.0, max=119.0), HTML(value='')))"
      ]
     },
     "metadata": {},
     "output_type": "display_data"
    },
    {
     "name": "stdout",
     "output_type": "stream",
     "text": [
      "\n"
     ]
    },
    {
     "data": {
      "application/vnd.jupyter.widget-view+json": {
       "model_id": "2b8c24e9ffce4cd4b137337e525bb4c5",
       "version_major": 2,
       "version_minor": 0
      },
      "text/plain": [
       "HBox(children=(HTML(value=''), FloatProgress(value=0.0, max=119.0), HTML(value='')))"
      ]
     },
     "metadata": {},
     "output_type": "display_data"
    },
    {
     "name": "stdout",
     "output_type": "stream",
     "text": [
      "\n"
     ]
    }
   ],
   "source": [
    "# Age\n",
    "model_name = \"Age\"\n",
    "args.model = 'resnet34'\n",
    "args.resize = [512, 384]\n",
    "\n",
    "age_model_weights = torch.load(glob(f'{model_dir}/Project{project_idx}/Age0*')[0])\n",
    "age_model0 = TimmModel(args, num_classes=2, pretrained=True).to(device)\n",
    "age_model0.load_state_dict(age_model_weights)\n",
    "\n",
    "age_preds_labels0, age_preds_prob0, age_labels0 = main(args, age_model0, model_name, device)\n",
    "\n",
    "age_model_weights = torch.load(glob(f'{model_dir}/Project{project_idx}/Age1*')[0])\n",
    "age_model1 = TimmModel(args, num_classes=2, pretrained=True).to(device)\n",
    "age_model1.load_state_dict(age_model_weights)\n",
    "\n",
    "age_preds_labels1, age_preds_prob1, age_labels1 = main(args, age_model1, model_name, device)\n",
    "\n",
    "age_model_weights = torch.load(glob(f'{model_dir}/Project{project_idx}/Age2*')[0])\n",
    "age_model2 = TimmModel(args, num_classes=2, pretrained=True).to(device)\n",
    "age_model2.load_state_dict(age_model_weights)\n",
    "\n",
    "age_preds_labels2, age_preds_prob2, age_labels2 = main(args, age_model2, model_name, device)"
   ]
  },
  {
   "cell_type": "code",
   "execution_count": 33,
   "id": "aa03165c-fb5c-44e6-be8f-c7da8c8d36b8",
   "metadata": {
    "tags": []
   },
   "outputs": [
    {
     "name": "stdout",
     "output_type": "stream",
     "text": [
      "189\n"
     ]
    }
   ],
   "source": [
    "\"\"\"\n",
    "Mask               Gender          Age\n",
    "- mask      : 0    - male   : 0    - 30 미만         : 0 \n",
    "- incorrect : 1    - female : 1    - 30 이상 60 미만 : 1\n",
    "- normal    : 2                    - 60 이상         : 2\n",
    "\"\"\"\n",
    "label_dict = {(0, 0, 0): 0, (0, 0, 1): 1, (0, 0, 2): 2, (0, 1, 0): 3, (0, 1, 1): 4, \n",
    "              (0, 1, 2): 5, (1, 0, 0): 6, (1, 0, 1): 7, (1, 0, 2): 8, (1, 1, 0): 9, \n",
    "              (1, 1, 1): 10, (1, 1, 2): 11, (2, 0, 0): 12, (2, 0, 1): 13, (2, 0, 2): 14, \n",
    "              (2, 1, 0): 15, (2, 1, 1): 16, (2, 1, 2): 17}\n",
    "\n",
    "# preds, labels = [], []\n",
    "# for (mask_pred, gender_pred, age_pred), (mask_label, gender_label, age_label) in zip(zip(mask_preds, gender_preds, age_preds), zip(mask_labels, gender_labels, age_labels)):\n",
    "#     pred = (mask_pred, gender_pred, age_pred)\n",
    "#     preds.append(label_dict[pred])\n",
    "#     label = (mask_label, gender_label, age_label)\n",
    "#     labels.append(label_dict[label])\n",
    "\n",
    "# print(f1_score(labels, preds, average='macro'))\n",
    "\n",
    "error_index = []\n",
    "age_preds, age_labels = [], []\n",
    "for idx, ((age_pred_label0, age_pred_prob0, age_label), (age_pred_label1, age_pred_prob1, _), (age_pred_label2, age_pred_prob2, _)) in enumerate(zip(zip(age_preds_labels0, age_preds_prob0, age_labels0), zip(age_preds_labels1, age_preds_prob1, age_labels1), zip(age_preds_labels2, age_preds_prob2, age_labels2))):\n",
    "    if age_pred_label0 == 0 and age_pred_label1 == 1 and age_pred_label2 == 1:\n",
    "        age_pred = 0\n",
    "    elif age_pred_label0 == 1 and age_pred_label1 == 0 and age_pred_label2 == 1:\n",
    "        age_pred = 1\n",
    "    elif age_pred_label0 == 1 and age_pred_label1 == 1 and age_pred_label2 == 0:\n",
    "        age_pred = 2\n",
    "    elif age_pred_label0 == 0 and age_pred_label1 == 0 and age_pred_label2 == 1: # 001\n",
    "        if age_pred_prob0 > age_pred_prob1: age_pred = 0\n",
    "        else: age_pred = 1\n",
    "    elif age_pred_label0 == 0 and age_pred_label1 == 1 and age_pred_label2 == 0: # 010\n",
    "        if age_pred_prob0 > age_pred_prob2: age_pred = 0\n",
    "        else: age_pred = 2\n",
    "    elif age_pred_label0 == 1 and age_pred_label1 == 0 and age_pred_label2 == 0: # 100\n",
    "        if age_pred_prob1 > age_pred_prob2: age_pred = 1\n",
    "        else: age_pred = 2\n",
    "    elif age_pred_label0 == 0 and age_pred_label1 == 0 and age_pred_label2 == 0: # 000\n",
    "        age_pred = np.argmax(np.array([age_pred_prob0, age_pred_prob1, age_pred_prob2]))\n",
    "    elif age_pred_label0 == 1 and age_pred_label1 == 1 and age_pred_label2 == 1: # 111\n",
    "        # print([age_pred_prob0, age_pred_prob1, age_pred_prob2])\n",
    "        age_pred = np.argmin(np.array([age_pred_prob0, age_pred_prob1, age_pred_prob2]))\n",
    "        \n",
    "    if age_pred != age_label:\n",
    "        error_index.append(idx)\n",
    "        \n",
    "    age_preds.append(age_pred)\n",
    "    age_labels.append(age_label)\n",
    "    \n",
    "print(len(error_index))"
   ]
  },
  {
   "cell_type": "code",
   "execution_count": 34,
   "id": "79418e57-b0d2-4b54-9a40-f250cc7ce8c2",
   "metadata": {
    "tags": []
   },
   "outputs": [
    {
     "name": "stdout",
     "output_type": "stream",
     "text": [
      "{0, 1, 2}\n",
      "3780 3780 3780\n",
      "3780 3780 3780\n"
     ]
    }
   ],
   "source": [
    "print(set(age_preds))\n",
    "print(len(mask_preds), len(gender_preds), len(age_preds))\n",
    "print(len(mask_labels), len(gender_labels), len(age_labels))"
   ]
  },
  {
   "cell_type": "code",
   "execution_count": 36,
   "id": "f013e7e5-a7bc-48dd-8189-50fa7628211e",
   "metadata": {
    "tags": []
   },
   "outputs": [
    {
     "name": "stdout",
     "output_type": "stream",
     "text": [
      "0.9020256178815712\n"
     ]
    }
   ],
   "source": [
    "\"\"\"\n",
    "Mask               Gender          Age\n",
    "- mask      : 0    - male   : 0    - 30 미만         : 0 \n",
    "- incorrect : 1    - female : 1    - 30 이상 60 미만 : 1\n",
    "- normal    : 2                    - 60 이상         : 2\n",
    "\"\"\"\n",
    "label_dict = {(0, 0, 0): 0, (0, 0, 1): 1, (0, 0, 2): 2, (0, 1, 0): 3, (0, 1, 1): 4, \n",
    "              (0, 1, 2): 5, (1, 0, 0): 6, (1, 0, 1): 7, (1, 0, 2): 8, (1, 1, 0): 9, \n",
    "              (1, 1, 1): 10, (1, 1, 2): 11, (2, 0, 0): 12, (2, 0, 1): 13, (2, 0, 2): 14, \n",
    "              (2, 1, 0): 15, (2, 1, 1): 16, (2, 1, 2): 17}\n",
    "\n",
    "preds, labels = [], []\n",
    "for (mask_pred, gender_pred, age_pred), (mask_label, gender_label, age_label) in zip(zip(mask_preds, gender_preds, age_preds), zip(mask_labels, gender_labels, age_labels)):\n",
    "    pred = (mask_pred, gender_pred, age_pred)\n",
    "    preds.append(label_dict[pred])\n",
    "    label = (mask_label, gender_label, age_label)\n",
    "    labels.append(label_dict[label])\n",
    "\n",
    "print(f1_score(labels, preds, average='macro'))"
   ]
  },
  {
   "cell_type": "code",
   "execution_count": 44,
   "id": "97331cae-239b-4f38-9bd2-2f6d9794c354",
   "metadata": {
    "tags": []
   },
   "outputs": [
    {
     "name": "stdout",
     "output_type": "stream",
     "text": [
      "Project 12 Inference Start !\n"
     ]
    }
   ],
   "source": [
    "test_dir = TEST_IMG_PATH\n",
    "model_dir = '/workspace/models_all'\n",
    "project_idx = len(glob('/workspace/models_all/*'))\n",
    "project_idx = '12'\n",
    "print(f'Project {project_idx} Inference Start !')"
   ]
  },
  {
   "cell_type": "code",
   "execution_count": 45,
   "id": "0aabfbcb-9a60-474a-ad3a-f402529a8b59",
   "metadata": {
    "tags": []
   },
   "outputs": [],
   "source": [
    "test_df = pd.read_csv(TEST_CSV_PATH)\n",
    "image_paths = [os.path.join(test_dir, img_id) for img_id in test_df.ImageID]"
   ]
  },
  {
   "cell_type": "code",
   "execution_count": 47,
   "id": "56f42fc2-387c-4cfa-baf5-ba300c3f60ed",
   "metadata": {},
   "outputs": [
    {
     "name": "stdout",
     "output_type": "stream",
     "text": [
      "3780\n"
     ]
    },
    {
     "ename": "ValueError",
     "evalue": "Length of values (3780) does not match length of index (12600)",
     "output_type": "error",
     "traceback": [
      "\u001b[0;31m---------------------------------------------------------------------------\u001b[0m",
      "\u001b[0;31mValueError\u001b[0m                                Traceback (most recent call last)",
      "Cell \u001b[0;32mIn[47], line 13\u001b[0m\n\u001b[1;32m     10\u001b[0m     preds\u001b[38;5;241m.\u001b[39mappend(label_dict[temp])\n\u001b[1;32m     11\u001b[0m \u001b[38;5;28mprint\u001b[39m(\u001b[38;5;28mlen\u001b[39m(preds))\n\u001b[0;32m---> 13\u001b[0m \u001b[43mtest_df\u001b[49m\u001b[43m[\u001b[49m\u001b[38;5;124;43m'\u001b[39;49m\u001b[38;5;124;43mans\u001b[39;49m\u001b[38;5;124;43m'\u001b[39;49m\u001b[43m]\u001b[49m \u001b[38;5;241m=\u001b[39m preds\n\u001b[1;32m     14\u001b[0m test_df\u001b[38;5;241m.\u001b[39mto_csv(\u001b[38;5;124mf\u001b[39m\u001b[38;5;124m'\u001b[39m\u001b[38;5;124m/workspace/submits/\u001b[39m\u001b[38;5;132;01m{\u001b[39;00margs\u001b[38;5;241m.\u001b[39mmodel\u001b[38;5;132;01m}\u001b[39;00m\u001b[38;5;124m.csv\u001b[39m\u001b[38;5;124m'\u001b[39m, index\u001b[38;5;241m=\u001b[39m\u001b[38;5;28;01mFalse\u001b[39;00m)\n\u001b[1;32m     15\u001b[0m \u001b[38;5;28mprint\u001b[39m(\u001b[38;5;124mf\u001b[39m\u001b[38;5;124m'\u001b[39m\u001b[38;5;124mProject \u001b[39m\u001b[38;5;132;01m{\u001b[39;00mproject_idx\u001b[38;5;132;01m}\u001b[39;00m\u001b[38;5;124m inference is done!\u001b[39m\u001b[38;5;124m'\u001b[39m)\n",
      "File \u001b[0;32m/opt/conda/lib/python3.8/site-packages/pandas/core/frame.py:3959\u001b[0m, in \u001b[0;36mDataFrame.__setitem__\u001b[0;34m(self, key, value)\u001b[0m\n\u001b[1;32m   3956\u001b[0m     \u001b[38;5;28mself\u001b[39m\u001b[38;5;241m.\u001b[39m_setitem_array([key], value)\n\u001b[1;32m   3957\u001b[0m \u001b[38;5;28;01melse\u001b[39;00m:\n\u001b[1;32m   3958\u001b[0m     \u001b[38;5;66;03m# set column\u001b[39;00m\n\u001b[0;32m-> 3959\u001b[0m     \u001b[38;5;28;43mself\u001b[39;49m\u001b[38;5;241;43m.\u001b[39;49m\u001b[43m_set_item\u001b[49m\u001b[43m(\u001b[49m\u001b[43mkey\u001b[49m\u001b[43m,\u001b[49m\u001b[43m \u001b[49m\u001b[43mvalue\u001b[49m\u001b[43m)\u001b[49m\n",
      "File \u001b[0;32m/opt/conda/lib/python3.8/site-packages/pandas/core/frame.py:4152\u001b[0m, in \u001b[0;36mDataFrame._set_item\u001b[0;34m(self, key, value)\u001b[0m\n\u001b[1;32m   4142\u001b[0m \u001b[38;5;28;01mdef\u001b[39;00m \u001b[38;5;21m_set_item\u001b[39m(\u001b[38;5;28mself\u001b[39m, key, value) \u001b[38;5;241m-\u001b[39m\u001b[38;5;241m>\u001b[39m \u001b[38;5;28;01mNone\u001b[39;00m:\n\u001b[1;32m   4143\u001b[0m     \u001b[38;5;124;03m\"\"\"\u001b[39;00m\n\u001b[1;32m   4144\u001b[0m \u001b[38;5;124;03m    Add series to DataFrame in specified column.\u001b[39;00m\n\u001b[1;32m   4145\u001b[0m \n\u001b[0;32m   (...)\u001b[0m\n\u001b[1;32m   4150\u001b[0m \u001b[38;5;124;03m    ensure homogeneity.\u001b[39;00m\n\u001b[1;32m   4151\u001b[0m \u001b[38;5;124;03m    \"\"\"\u001b[39;00m\n\u001b[0;32m-> 4152\u001b[0m     value \u001b[38;5;241m=\u001b[39m \u001b[38;5;28;43mself\u001b[39;49m\u001b[38;5;241;43m.\u001b[39;49m\u001b[43m_sanitize_column\u001b[49m\u001b[43m(\u001b[49m\u001b[43mvalue\u001b[49m\u001b[43m)\u001b[49m\n\u001b[1;32m   4154\u001b[0m     \u001b[38;5;28;01mif\u001b[39;00m (\n\u001b[1;32m   4155\u001b[0m         key \u001b[38;5;129;01min\u001b[39;00m \u001b[38;5;28mself\u001b[39m\u001b[38;5;241m.\u001b[39mcolumns\n\u001b[1;32m   4156\u001b[0m         \u001b[38;5;129;01mand\u001b[39;00m value\u001b[38;5;241m.\u001b[39mndim \u001b[38;5;241m==\u001b[39m \u001b[38;5;241m1\u001b[39m\n\u001b[1;32m   4157\u001b[0m         \u001b[38;5;129;01mand\u001b[39;00m \u001b[38;5;129;01mnot\u001b[39;00m is_extension_array_dtype(value)\n\u001b[1;32m   4158\u001b[0m     ):\n\u001b[1;32m   4159\u001b[0m         \u001b[38;5;66;03m# broadcast across multiple columns if necessary\u001b[39;00m\n\u001b[1;32m   4160\u001b[0m         \u001b[38;5;28;01mif\u001b[39;00m \u001b[38;5;129;01mnot\u001b[39;00m \u001b[38;5;28mself\u001b[39m\u001b[38;5;241m.\u001b[39mcolumns\u001b[38;5;241m.\u001b[39mis_unique \u001b[38;5;129;01mor\u001b[39;00m \u001b[38;5;28misinstance\u001b[39m(\u001b[38;5;28mself\u001b[39m\u001b[38;5;241m.\u001b[39mcolumns, MultiIndex):\n",
      "File \u001b[0;32m/opt/conda/lib/python3.8/site-packages/pandas/core/frame.py:4878\u001b[0m, in \u001b[0;36mDataFrame._sanitize_column\u001b[0;34m(self, value)\u001b[0m\n\u001b[1;32m   4875\u001b[0m     \u001b[38;5;28;01mreturn\u001b[39;00m _reindex_for_setitem(Series(value), \u001b[38;5;28mself\u001b[39m\u001b[38;5;241m.\u001b[39mindex)\n\u001b[1;32m   4877\u001b[0m \u001b[38;5;28;01mif\u001b[39;00m is_list_like(value):\n\u001b[0;32m-> 4878\u001b[0m     \u001b[43mcom\u001b[49m\u001b[38;5;241;43m.\u001b[39;49m\u001b[43mrequire_length_match\u001b[49m\u001b[43m(\u001b[49m\u001b[43mvalue\u001b[49m\u001b[43m,\u001b[49m\u001b[43m \u001b[49m\u001b[38;5;28;43mself\u001b[39;49m\u001b[38;5;241;43m.\u001b[39;49m\u001b[43mindex\u001b[49m\u001b[43m)\u001b[49m\n\u001b[1;32m   4879\u001b[0m \u001b[38;5;28;01mreturn\u001b[39;00m sanitize_array(value, \u001b[38;5;28mself\u001b[39m\u001b[38;5;241m.\u001b[39mindex, copy\u001b[38;5;241m=\u001b[39m\u001b[38;5;28;01mTrue\u001b[39;00m, allow_2d\u001b[38;5;241m=\u001b[39m\u001b[38;5;28;01mTrue\u001b[39;00m)\n",
      "File \u001b[0;32m/opt/conda/lib/python3.8/site-packages/pandas/core/common.py:576\u001b[0m, in \u001b[0;36mrequire_length_match\u001b[0;34m(data, index)\u001b[0m\n\u001b[1;32m    572\u001b[0m \u001b[38;5;124;03m\"\"\"\u001b[39;00m\n\u001b[1;32m    573\u001b[0m \u001b[38;5;124;03mCheck the length of data matches the length of the index.\u001b[39;00m\n\u001b[1;32m    574\u001b[0m \u001b[38;5;124;03m\"\"\"\u001b[39;00m\n\u001b[1;32m    575\u001b[0m \u001b[38;5;28;01mif\u001b[39;00m \u001b[38;5;28mlen\u001b[39m(data) \u001b[38;5;241m!=\u001b[39m \u001b[38;5;28mlen\u001b[39m(index):\n\u001b[0;32m--> 576\u001b[0m     \u001b[38;5;28;01mraise\u001b[39;00m \u001b[38;5;167;01mValueError\u001b[39;00m(\n\u001b[1;32m    577\u001b[0m         \u001b[38;5;124m\"\u001b[39m\u001b[38;5;124mLength of values \u001b[39m\u001b[38;5;124m\"\u001b[39m\n\u001b[1;32m    578\u001b[0m         \u001b[38;5;124mf\u001b[39m\u001b[38;5;124m\"\u001b[39m\u001b[38;5;124m(\u001b[39m\u001b[38;5;132;01m{\u001b[39;00m\u001b[38;5;28mlen\u001b[39m(data)\u001b[38;5;132;01m}\u001b[39;00m\u001b[38;5;124m) \u001b[39m\u001b[38;5;124m\"\u001b[39m\n\u001b[1;32m    579\u001b[0m         \u001b[38;5;124m\"\u001b[39m\u001b[38;5;124mdoes not match length of index \u001b[39m\u001b[38;5;124m\"\u001b[39m\n\u001b[1;32m    580\u001b[0m         \u001b[38;5;124mf\u001b[39m\u001b[38;5;124m\"\u001b[39m\u001b[38;5;124m(\u001b[39m\u001b[38;5;132;01m{\u001b[39;00m\u001b[38;5;28mlen\u001b[39m(index)\u001b[38;5;132;01m}\u001b[39;00m\u001b[38;5;124m)\u001b[39m\u001b[38;5;124m\"\u001b[39m\n\u001b[1;32m    581\u001b[0m     )\n",
      "\u001b[0;31mValueError\u001b[0m: Length of values (3780) does not match length of index (12600)"
     ]
    }
   ],
   "source": [
    "\"\"\"\n",
    "Mask               Gender          Age\n",
    "- mask      : 0    - male   : 0    - 30 미만         : 0 \n",
    "- incorrect : 1    - female : 1    - 30 이상 60 미만 : 1\n",
    "- normal    : 2                    - 60 이상         : 2\n",
    "\"\"\"\n",
    "preds = []\n",
    "for mask_pred, gender_pred, age_pred in zip(mask_preds, gender_preds, age_preds):\n",
    "    temp = (mask_pred, gender_pred, age_pred)\n",
    "    preds.append(label_dict[temp])\n",
    "\n",
    "test_df['ans'] = preds\n",
    "test_df.to_csv(f'/workspace/submits/{args.model}.csv', index=False)\n",
    "print(f'Project {project_idx} inference is done!')"
   ]
  },
  {
   "cell_type": "code",
   "execution_count": null,
   "id": "5da6c5a0-68c3-439f-9fbe-76b38ce5659b",
   "metadata": {},
   "outputs": [],
   "source": []
  }
 ],
 "metadata": {
  "kernelspec": {
   "display_name": "Python 3 (ipykernel)",
   "language": "python",
   "name": "python3"
  },
  "language_info": {
   "codemirror_mode": {
    "name": "ipython",
    "version": 3
   },
   "file_extension": ".py",
   "mimetype": "text/x-python",
   "name": "python",
   "nbconvert_exporter": "python",
   "pygments_lexer": "ipython3",
   "version": "3.8.5"
  }
 },
 "nbformat": 4,
 "nbformat_minor": 5
}
